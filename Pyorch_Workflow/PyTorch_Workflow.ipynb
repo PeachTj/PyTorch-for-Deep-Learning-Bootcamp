{
  "nbformat": 4,
  "nbformat_minor": 0,
  "metadata": {
    "colab": {
      "provenance": [],
      "gpuType": "T4"
    },
    "kernelspec": {
      "name": "python3",
      "display_name": "Python 3"
    },
    "language_info": {
      "name": "python"
    },
    "accelerator": "GPU"
  },
  "cells": [
    {
      "cell_type": "markdown",
      "source": [
        "## Pytorch Workflow\n",
        "1. Data Prepare & load\n",
        "2. Build model\n",
        "3. Training, fitting data\n",
        "4. Making predictions, evaluating\n",
        "5. Save model & load model\n",
        "6. putting together\n",
        "\n",
        "Get data intoa numerical representation\n",
        "\n",
        "\n",
        "Build a model to learn patterns in that numerica representation"
      ],
      "metadata": {
        "id": "0jQq0zbiwoZ7"
      }
    },
    {
      "cell_type": "code",
      "source": [
        "import torch\n",
        "from torch import nn\n",
        "import matplotlib.pyplot as plt\n",
        "\n",
        "torch.__version__"
      ],
      "metadata": {
        "colab": {
          "base_uri": "https://localhost:8080/",
          "height": 35
        },
        "id": "KZTQ2GISw6VJ",
        "outputId": "440dbeb5-9625-4f52-d575-19d619981eb1"
      },
      "execution_count": 1,
      "outputs": [
        {
          "output_type": "execute_result",
          "data": {
            "text/plain": [
              "'2.6.0+cu124'"
            ],
            "application/vnd.google.colaboratory.intrinsic+json": {
              "type": "string"
            }
          },
          "metadata": {},
          "execution_count": 1
        }
      ]
    },
    {
      "cell_type": "code",
      "source": [
        "# Create *know* parameters\n",
        "weight = 0.7\n",
        "bias = 0.3\n",
        "\n",
        "start=0\n",
        "end=1\n",
        "step=0.02\n",
        "\n",
        "X = torch.arange(start,end,step).unsqueeze(dim=1)\n",
        "Y = weight * X + bias"
      ],
      "metadata": {
        "id": "ejlFe4RXx6Dt"
      },
      "execution_count": 2,
      "outputs": []
    },
    {
      "cell_type": "code",
      "source": [
        "X[:10],Y[:10]"
      ],
      "metadata": {
        "colab": {
          "base_uri": "https://localhost:8080/"
        },
        "id": "STdl14gs0x-L",
        "outputId": "42917f7d-64fd-4ab4-9d58-1f841a063210"
      },
      "execution_count": 3,
      "outputs": [
        {
          "output_type": "execute_result",
          "data": {
            "text/plain": [
              "(tensor([[0.0000],\n",
              "         [0.0200],\n",
              "         [0.0400],\n",
              "         [0.0600],\n",
              "         [0.0800],\n",
              "         [0.1000],\n",
              "         [0.1200],\n",
              "         [0.1400],\n",
              "         [0.1600],\n",
              "         [0.1800]]),\n",
              " tensor([[0.3000],\n",
              "         [0.3140],\n",
              "         [0.3280],\n",
              "         [0.3420],\n",
              "         [0.3560],\n",
              "         [0.3700],\n",
              "         [0.3840],\n",
              "         [0.3980],\n",
              "         [0.4120],\n",
              "         [0.4260]]))"
            ]
          },
          "metadata": {},
          "execution_count": 3
        }
      ]
    },
    {
      "cell_type": "code",
      "source": [
        "len(X),len(Y)"
      ],
      "metadata": {
        "colab": {
          "base_uri": "https://localhost:8080/"
        },
        "id": "7CY0fjM600R_",
        "outputId": "998a0a35-88e0-446c-d9b5-845e885e8f84"
      },
      "execution_count": 4,
      "outputs": [
        {
          "output_type": "execute_result",
          "data": {
            "text/plain": [
              "(50, 50)"
            ]
          },
          "metadata": {},
          "execution_count": 4
        }
      ]
    },
    {
      "cell_type": "markdown",
      "source": [
        "## Splitting data into training and test set"
      ],
      "metadata": {
        "id": "hwtjyqpv1VIX"
      }
    },
    {
      "cell_type": "markdown",
      "source": [
        "Create a train/test split"
      ],
      "metadata": {
        "id": "YSmGMdd_4DvU"
      }
    },
    {
      "cell_type": "code",
      "source": [
        "train_split = int(0.8*len(X))\n",
        "X_train,Y_train = X[:train_split],Y[:train_split]\n",
        "X_test,Y_test = X[train_split:],Y[train_split:]"
      ],
      "metadata": {
        "id": "ubRwLnoS4cpd"
      },
      "execution_count": 5,
      "outputs": []
    },
    {
      "cell_type": "code",
      "source": [
        "len(X_train),len(Y_train),len(X_test),len(Y_test)"
      ],
      "metadata": {
        "colab": {
          "base_uri": "https://localhost:8080/"
        },
        "id": "oids8x2d5J7i",
        "outputId": "e0310087-5b21-4fda-de4b-1e7b4934aeda"
      },
      "execution_count": 6,
      "outputs": [
        {
          "output_type": "execute_result",
          "data": {
            "text/plain": [
              "(40, 40, 10, 10)"
            ]
          },
          "metadata": {},
          "execution_count": 6
        }
      ]
    },
    {
      "cell_type": "markdown",
      "source": [
        "Building a function to Visualize my data"
      ],
      "metadata": {
        "id": "1SIUs49x5UzS"
      }
    },
    {
      "cell_type": "code",
      "source": [
        "def plot_predictions(\n",
        "    train_data=X_train,\n",
        "    train_labels=Y_train, # 'train_labels' represents the actual target values (labels) corresponding to the training data.\n",
        "    test_data=X_test,\n",
        "    test_labels=Y_test,\n",
        "    predictions=None,):\n",
        "\n",
        "  \"\"\"\n",
        "  Plots training data, test data and compares predictions\n",
        "  \"\"\"\n",
        "  plt.figure(figsize=(10,7))\n",
        "\n",
        "  # Plot training data in blue\n",
        "  plt.scatter(train_data, train_labels, c=\"b\", s=5, label=\"Training data\")\n",
        "\n",
        "  # Plot test data in green\n",
        "  plt.scatter(test_data, test_labels, c=\"g\", s=5, label=\"Testing data\")\n",
        "\n",
        "  if predictions is not None:\n",
        "    # Plot the predictions if exist\n",
        "    plt.scatter(test_data, predictions, c=\"r\", s=5, label=\"Prediction data\")\n",
        "\n",
        "  # Show the legend\n",
        "  plt.legend(prop={\"size\":14})"
      ],
      "metadata": {
        "id": "AZRnh5Wo6uiM"
      },
      "execution_count": 7,
      "outputs": []
    },
    {
      "cell_type": "code",
      "source": [
        "plot_predictions()"
      ],
      "metadata": {
        "colab": {
          "base_uri": "https://localhost:8080/",
          "height": 599
        },
        "id": "XcbJ6Qw__uXE",
        "outputId": "98f689d6-7741-49a7-c883-9dfa539c45be"
      },
      "execution_count": 8,
      "outputs": [
        {
          "output_type": "display_data",
          "data": {
            "text/plain": [
              "<Figure size 1000x700 with 1 Axes>"
            ],
            "image/png": "[encoded data removed]"
          },
          "metadata": {}
        }
      ]
    },
    {
      "cell_type": "markdown",
      "source": [
        "## Build model\n",
        "\n",
        "Building class:\n",
        "https://realpython.com/python3-object-oriented-programming/\n",
        "\n",
        "Base class for all neural network modules.\n",
        "\n",
        "https://pytorch.org/docs/stable/generated/torch.nn.Module.html"
      ],
      "metadata": {
        "id": "G8uNoEHMCbzi"
      }
    },
    {
      "cell_type": "markdown",
      "source": [
        "### What Our Model Does\n",
        "\n",
        "- **Start with random values** (weight & bias)\n",
        "- **Look at training data** and adjust the random values to better represent (or get closer to) the ideal values (the weight & bias values we used to create the data)\n",
        "\n",
        "#### How Does It Do So?\n",
        "\n",
        "Through two main algorithms:\n",
        "\n",
        "1. **Gradient Descent**\n",
        "2. **Backpropagation**\n",
        "\n",
        "#### this model's building essentials:\n",
        "1. `nn.Module` contains the larger building blocks (layers)\n",
        "2. `nn.Parameter` contains the smaller parameters like weights and biases (put these together to make nn.Module(s))\n",
        "3. `forward()` tells the larger blocks how to make calculations on inputs (tensors full of data) within nn.Module(s)"
      ],
      "metadata": {
        "id": "-eP_G1oVNA8w"
      }
    },
    {
      "cell_type": "code",
      "source": [
        "from torch import nn\n",
        "\n",
        "#Create liear regression model class\n",
        "class LinearRegressionModel(nn.Module):\n",
        "  def __init__(self):\n",
        "    super().__init__()\n",
        "\n",
        "    # Define trainable parameter for the model\n",
        "    self.weight = nn.Parameter(torch.randn(1,\n",
        "                         requires_grad=True,\n",
        "                         dtype=torch.float))\n",
        "\n",
        "    self.bias = nn.Parameter(torch.randn(1,\n",
        "                        requires_grad=True,\n",
        "                        dtype=torch.float))\n",
        "\n",
        "  # Forward method to define the computation in the model\n",
        "  def forward(self, x: torch.Tensor) -> torch.Tensor:\n",
        "    \"\"\"\n",
        "    Defines the forward pass of the neural network.\n",
        "    Args:\n",
        "        x (torch.Tensor): The input tensor to the model.\n",
        "    Returns:\n",
        "        torch.Tensor: The output tensor after processing.\n",
        "    \"\"\"\n",
        "    return self.weight * x + self.bias"
      ],
      "metadata": {
        "id": "fMLe0Gnt7i95"
      },
      "execution_count": 9,
      "outputs": []
    },
    {
      "cell_type": "markdown",
      "source": [
        "### Pytorch model building essentials\n",
        "* torch.nn      - for computational graphs\n",
        "* torch.nn.Parameter - for model to learn and try parameters(ofen in a pytorch layer)\n",
        "* torch.nn.Module   - The base class for all neural network modules, overwrite forward if subclassed\n",
        "* def forward    - define model's forward computation\n",
        "\n",
        "more:https://pytorch.org/tutorials/beginner/ptcheat.html"
      ],
      "metadata": {
        "id": "Dbyj7a7tM_ed"
      }
    },
    {
      "cell_type": "markdown",
      "source": [
        "### Checking the contents of PyTorch model\n",
        "`.parameters()` for check out model parameters or what's inside our model"
      ],
      "metadata": {
        "id": "txc0qMB-QHXX"
      }
    },
    {
      "cell_type": "code",
      "source": [
        "# Create a random seed\n",
        "torch.manual_seed(4221)\n",
        "\n",
        "# Create an instance of the model\n",
        "model_0 = LinearRegressionModel()\n",
        "\n",
        "model_0"
      ],
      "metadata": {
        "colab": {
          "base_uri": "https://localhost:8080/"
        },
        "id": "PMVwAHPmUUOe",
        "outputId": "029041f6-535b-4fee-98b0-dcca9c618d0b"
      },
      "execution_count": 10,
      "outputs": [
        {
          "output_type": "execute_result",
          "data": {
            "text/plain": [
              "LinearRegressionModel()"
            ]
          },
          "metadata": {},
          "execution_count": 10
        }
      ]
    },
    {
      "cell_type": "code",
      "source": [
        "# Check out parameters\n",
        "model_0.parameters()\n",
        "list(model_0.parameters())"
      ],
      "metadata": {
        "colab": {
          "base_uri": "https://localhost:8080/"
        },
        "id": "ZzwDWjf7U1m7",
        "outputId": "93d00ae3-99b5-4824-98e5-949ac6e49efe"
      },
      "execution_count": 11,
      "outputs": [
        {
          "output_type": "execute_result",
          "data": {
            "text/plain": [
              "[Parameter containing:\n",
              " tensor([-0.9314], requires_grad=True),\n",
              " Parameter containing:\n",
              " tensor([-0.6524], requires_grad=True)]"
            ]
          },
          "metadata": {},
          "execution_count": 11
        }
      ]
    },
    {
      "cell_type": "code",
      "source": [
        "# List named parameters\n",
        "model_0.state_dict()"
      ],
      "metadata": {
        "colab": {
          "base_uri": "https://localhost:8080/"
        },
        "id": "1sfW-x-OcuE1",
        "outputId": "b575cf06-429f-4c6f-fa56-134d915479c3"
      },
      "execution_count": 12,
      "outputs": [
        {
          "output_type": "execute_result",
          "data": {
            "text/plain": [
              "OrderedDict([('weight', tensor([-0.9314])), ('bias', tensor([-0.6524]))])"
            ]
          },
          "metadata": {},
          "execution_count": 12
        }
      ]
    },
    {
      "cell_type": "markdown",
      "source": [
        "### Making prediction using torch.inference_mode()\n",
        "* Using X_test to predicts y_test.\n",
        "* Run data through the forward() method\n",
        "* using `inference_mode()``torch.no_grad()` to turn of gradient tracking, and save a lot of time"
      ],
      "metadata": {
        "id": "7ZqNDkY5c1Nc"
      }
    },
    {
      "cell_type": "code",
      "source": [
        "X_test, Y_test"
      ],
      "metadata": {
        "colab": {
          "base_uri": "https://localhost:8080/"
        },
        "id": "zdI1s70tmPDX",
        "outputId": "8340c358-1f02-4fba-bc8b-1eb4008accf8"
      },
      "execution_count": 13,
      "outputs": [
        {
          "output_type": "execute_result",
          "data": {
            "text/plain": [
              "(tensor([[0.8000],\n",
              "         [0.8200],\n",
              "         [0.8400],\n",
              "         [0.8600],\n",
              "         [0.8800],\n",
              "         [0.9000],\n",
              "         [0.9200],\n",
              "         [0.9400],\n",
              "         [0.9600],\n",
              "         [0.9800]]),\n",
              " tensor([[0.8600],\n",
              "         [0.8740],\n",
              "         [0.8880],\n",
              "         [0.9020],\n",
              "         [0.9160],\n",
              "         [0.9300],\n",
              "         [0.9440],\n",
              "         [0.9580],\n",
              "         [0.9720],\n",
              "         [0.9860]]))"
            ]
          },
          "metadata": {},
          "execution_count": 13
        }
      ]
    },
    {
      "cell_type": "code",
      "source": [
        "# Making predictions with model\n",
        "# with torch.inference_mode():\n",
        "#   y_preds = model_0(X_test)\n",
        "with torch.no_grad():\n",
        "  y_preds = model_0(X_test)\n",
        "y_preds"
      ],
      "metadata": {
        "colab": {
          "base_uri": "https://localhost:8080/"
        },
        "id": "7Y6LDQ1wlyYa",
        "outputId": "91ca1eaa-123d-4399-9a54-c3bdd0aa55fc"
      },
      "execution_count": 14,
      "outputs": [
        {
          "output_type": "execute_result",
          "data": {
            "text/plain": [
              "tensor([[-1.3975],\n",
              "        [-1.4161],\n",
              "        [-1.4348],\n",
              "        [-1.4534],\n",
              "        [-1.4720],\n",
              "        [-1.4906],\n",
              "        [-1.5093],\n",
              "        [-1.5279],\n",
              "        [-1.5465],\n",
              "        [-1.5652]])"
            ]
          },
          "metadata": {},
          "execution_count": 14
        }
      ]
    },
    {
      "cell_type": "code",
      "source": [
        "plot_predictions(predictions=y_preds)"
      ],
      "metadata": {
        "colab": {
          "base_uri": "https://localhost:8080/",
          "height": 599
        },
        "id": "z1IETA-Jnyzy",
        "outputId": "730a1fcf-7ec0-42aa-8bc2-82ca6e7e274d"
      },
      "execution_count": 15,
      "outputs": [
        {
          "output_type": "display_data",
          "data": {
            "text/plain": [
              "<Figure size 1000x700 with 1 Axes>"
            ],
            "image/png": "[encoded data removed]"
          },
          "metadata": {}
        }
      ]
    },
    {
      "cell_type": "markdown",
      "source": [
        "### Train model\n",
        "**The whole idea:** move from some unknown parameters to some known parameters.\n",
        "(from poor representation of data to a better representation of data)\n",
        "\n",
        "* Representation can be measured by loss function.\n",
        "\n",
        "**Things we need to train:**\n",
        "1. **Loss function:** A function to measure how wrong your model's predictions are, the lower the better.\n",
        "2. **Optimizer**: Take into accout the loss of a model, adjusts the model's parameters to improve the loss. --https://pytorch.org/docs/stable/optim.html\n",
        "\n",
        "For Pytorch:\n",
        "* A training loop\n",
        "* A testing loop"
      ],
      "metadata": {
        "id": "Mt5zvuQmo1pM"
      }
    },
    {
      "cell_type": "code",
      "source": [
        "# Check out model's parameter(parameter value are seted by model itself)\n",
        "model_0.state_dict()"
      ],
      "metadata": {
        "colab": {
          "base_uri": "https://localhost:8080/"
        },
        "id": "ue3lnRIEeWuj",
        "outputId": "47f3e9ec-c1c5-42d3-a35a-5b0514ebb05c"
      },
      "execution_count": 16,
      "outputs": [
        {
          "output_type": "execute_result",
          "data": {
            "text/plain": [
              "OrderedDict([('weight', tensor([-0.9314])), ('bias', tensor([-0.6524]))])"
            ]
          },
          "metadata": {},
          "execution_count": 16
        }
      ]
    },
    {
      "cell_type": "code",
      "source": [
        "# Set up a loss function\n",
        "loss_fn = nn.L1Loss()"
      ],
      "metadata": {
        "id": "LLHCXspjev24"
      },
      "execution_count": 17,
      "outputs": []
    },
    {
      "cell_type": "markdown",
      "source": [
        "Iside the optimizer:\n",
        "\n",
        "* **parameter**:the parameter my model should optimize\n",
        "* **lr for learning rate:**define how big/small the optimizer changes the parameter.\n",
        "\n",
        "  * The smaller lr, the smaller the change in parameter\n"
      ],
      "metadata": {
        "id": "9rsfUNh5kunN"
      }
    },
    {
      "cell_type": "code",
      "source": [
        "import torch.optim\n",
        "# Setup an Optimizer (stochastic gradient descent)\n",
        "optimizer = torch.optim.SGD(params=model_0.parameters(),\n",
        "                          lr=0.01)\n",
        "optimizer"
      ],
      "metadata": {
        "colab": {
          "base_uri": "https://localhost:8080/"
        },
        "id": "FGvgTzMIhPp0",
        "outputId": "8e74e7ac-c4e3-4d77-849f-74ea115c9499"
      },
      "execution_count": 18,
      "outputs": [
        {
          "output_type": "execute_result",
          "data": {
            "text/plain": [
              "SGD (\n",
              "Parameter Group 0\n",
              "    dampening: 0\n",
              "    differentiable: False\n",
              "    foreach: None\n",
              "    fused: None\n",
              "    lr: 0.01\n",
              "    maximize: False\n",
              "    momentum: 0\n",
              "    nesterov: False\n",
              "    weight_decay: 0\n",
              ")"
            ]
          },
          "metadata": {},
          "execution_count": 18
        }
      ]
    },
    {
      "cell_type": "markdown",
      "source": [
        "### Building a training loop(and a testing loop) in PyTorch\n",
        "**Training loop:** turn on `.train()` mode\n",
        "0. Loop through the data and do the followings:\n",
        "1. Forward pass    -- involves data moving through our model's `forward()`function to make predictions on propagation\n",
        "2. Caculate the loss --compare forward pass predictions to ground truth labels\n",
        "3. Optimize zero grad\n",
        "4. Loss backward(**back propagation**) -- move backwards through the network to caculate the gradient of each parameters of my model(with respect to the loss)\n",
        "5. Optimize step(**gradient descent**) --use optimizer to adjust my model's parameter to try and improve the loss\n",
        "\n",
        "**Testing loop:**Model don't need to learn any more so turn on `.eval()` to avoid gradient tracking and couple of other things behind the scenes\n"
      ],
      "metadata": {
        "id": "6DTvSQmZlxOS"
      }
    },
    {
      "cell_type": "code",
      "source": [
        "import numpy as np"
      ],
      "metadata": {
        "id": "XtdQapXqH6Iq"
      },
      "execution_count": 19,
      "outputs": []
    },
    {
      "cell_type": "code",
      "source": [
        "# An epoch is one loop through the data(hyperparameter )\n",
        "epochs = 1000\n",
        "\n",
        "# Track different values\n",
        "epoch_count = []\n",
        "train_loss_values = []\n",
        "test_loss_values = []\n",
        "\n",
        "\n",
        "### Training\n",
        "# 0. Loop through the data\n",
        "for epoch in range(epochs):\n",
        "  # Set the model to training mode\n",
        "  model_0.train() # set all parameters need gradient\n",
        "\n",
        "  # 1. Forward pass\n",
        "  y_pred = model_0(X_train)\n",
        "\n",
        "  # 2. Caculate the loss\n",
        "  loss = loss_fn(y_pred,Y_train)\n",
        "\n",
        "  # 3. Optimizer zero grad\n",
        "  optimizer.zero_grad()\n",
        "\n",
        "  # 4. Perform back propagation on the loss with respect to the parameters of model\n",
        "  loss.backward() # avoid optimizer accumulate the changes in every loop\n",
        "\n",
        "  # 5. Step the optimizer (perform gradient descent)\n",
        "  optimizer.step() # by default how the optimizer changes will accumulate through the loop\n",
        "\n",
        "  ### Testing\n",
        "  model_0.eval() # turns off different settings in the model not needed for evaluation/testing(dropout&bact norm layer)\n",
        "  with torch.inference_mode(): # turn off gradient tracking\n",
        "\n",
        "    # 1. Do the forward pass\n",
        "    test_pred = model_0(X_test)\n",
        "\n",
        "    # 2. Caculate the loss\n",
        "    test_loss = loss_fn(test_pred,Y_test)\n",
        "\n",
        "  # Print out what happening\n",
        "  if epoch % 100 == 0:\n",
        "    epoch_count.append(epoch)\n",
        "    train_loss_values.append(loss.detach().numpy())\n",
        "    test_loss_values.append(test_loss.detach().numpy())\n",
        "    print(f\"Epoch: {epoch} | Test:{loss} | Loss: {test_loss}\")\n",
        "    print(f\"parameter:{model_0.state_dict()}\")\n"
      ],
      "metadata": {
        "colab": {
          "base_uri": "https://localhost:8080/"
        },
        "collapsed": true,
        "id": "tlvDw42ovt6O",
        "outputId": "f61cbb4f-3fa6-4ea5-9545-1ad233355338"
      },
      "execution_count": 20,
      "outputs": [
        {
          "output_type": "stream",
          "name": "stdout",
          "text": [
            "Epoch: 0 | Test:1.5886412858963013 | Loss: 2.3908557891845703\n",
            "parameter:OrderedDict([('weight', tensor([-0.9275])), ('bias', tensor([-0.6424]))])\n",
            "Epoch: 100 | Test:0.44276753067970276 | Loss: 1.0477834939956665\n",
            "parameter:OrderedDict([('weight', tensor([-0.5375])), ('bias', tensor([0.3536]))])\n",
            "Epoch: 200 | Test:0.18996044993400574 | Loss: 0.47845062613487244\n",
            "parameter:OrderedDict([('weight', tensor([-0.2478])), ('bias', tensor([0.6651]))])\n",
            "Epoch: 300 | Test:0.15417397022247314 | Loss: 0.3594827353954315\n",
            "parameter:OrderedDict([('weight', tensor([-0.0653])), ('bias', tensor([0.6216]))])\n",
            "Epoch: 400 | Test:0.11983616650104523 | Loss: 0.2795070707798004\n",
            "parameter:OrderedDict([('weight', tensor([0.1055])), ('bias', tensor([0.5496]))])\n",
            "Epoch: 500 | Test:0.085487499833107 | Loss: 0.19884394109249115\n",
            "parameter:OrderedDict([('weight', tensor([0.2765])), ('bias', tensor([0.4781]))])\n",
            "Epoch: 600 | Test:0.05115063861012459 | Loss: 0.11886604130268097\n",
            "parameter:OrderedDict([('weight', tensor([0.4472])), ('bias', tensor([0.4061]))])\n",
            "Epoch: 700 | Test:0.016800975427031517 | Loss: 0.038201283663511276\n",
            "parameter:OrderedDict([('weight', tensor([0.6182])), ('bias', tensor([0.3346]))])\n",
            "Epoch: 800 | Test:0.00829241517931223 | Loss: 0.005563861224800348\n",
            "parameter:OrderedDict([('weight', tensor([0.6953])), ('bias', tensor([0.2986]))])\n",
            "Epoch: 900 | Test:0.00829241517931223 | Loss: 0.005563861224800348\n",
            "parameter:OrderedDict([('weight', tensor([0.6953])), ('bias', tensor([0.2986]))])\n"
          ]
        }
      ]
    },
    {
      "cell_type": "code",
      "source": [
        "epoch_count,train_loss_values,test_loss_values"
      ],
      "metadata": {
        "colab": {
          "base_uri": "https://localhost:8080/"
        },
        "id": "ki978xS4E02t",
        "outputId": "90c0992c-f4eb-41f5-c8b9-f651a6d1a5a8"
      },
      "execution_count": 21,
      "outputs": [
        {
          "output_type": "execute_result",
          "data": {
            "text/plain": [
              "([0, 100, 200, 300, 400, 500, 600, 700, 800, 900],\n",
              " [array(1.5886413, dtype=float32),\n",
              "  array(0.44276753, dtype=float32),\n",
              "  array(0.18996045, dtype=float32),\n",
              "  array(0.15417397, dtype=float32),\n",
              "  array(0.11983617, dtype=float32),\n",
              "  array(0.0854875, dtype=float32),\n",
              "  array(0.05115064, dtype=float32),\n",
              "  array(0.01680098, dtype=float32),\n",
              "  array(0.00829242, dtype=float32),\n",
              "  array(0.00829242, dtype=float32)],\n",
              " [array(2.3908558, dtype=float32),\n",
              "  array(1.0477835, dtype=float32),\n",
              "  array(0.47845063, dtype=float32),\n",
              "  array(0.35948274, dtype=float32),\n",
              "  array(0.27950707, dtype=float32),\n",
              "  array(0.19884394, dtype=float32),\n",
              "  array(0.11886604, dtype=float32),\n",
              "  array(0.03820128, dtype=float32),\n",
              "  array(0.00556386, dtype=float32),\n",
              "  array(0.00556386, dtype=float32)])"
            ]
          },
          "metadata": {},
          "execution_count": 21
        }
      ]
    },
    {
      "cell_type": "code",
      "source": [
        "# Plot the loss curves\n",
        "import numpy as np\n",
        "plt.plot(epoch_count,train_loss_values,label=\"Train loss\")\n",
        "plt.plot(epoch_count,test_loss_values,label=\"Test loss\")\n",
        "plt.title(\"Training and test loss curves\")\n",
        "plt.ylabel(\"Loss\")\n",
        "plt.xlabel(\"Epochs\")\n",
        "plt.legend()"
      ],
      "metadata": {
        "colab": {
          "base_uri": "https://localhost:8080/",
          "height": 490
        },
        "id": "jQBG_Wa2E0nj",
        "outputId": "30f2e82d-6bb4-4d7e-9508-854b8a961078"
      },
      "execution_count": 22,
      "outputs": [
        {
          "output_type": "execute_result",
          "data": {
            "text/plain": [
              "<matplotlib.legend.Legend at 0x7ed50a07ce50>"
            ]
          },
          "metadata": {},
          "execution_count": 22
        },
        {
          "output_type": "display_data",
          "data": {
            "text/plain": [
              "<Figure size 640x480 with 1 Axes>"
            ],
            "image/png": "[encoded data removed]"
          },
          "metadata": {}
        }
      ]
    },
    {
      "cell_type": "code",
      "source": [
        "model_0.state_dict()"
      ],
      "metadata": {
        "colab": {
          "base_uri": "https://localhost:8080/"
        },
        "id": "Z9xxu5qIHrwh",
        "outputId": "9c1d83c7-439e-49aa-cb10-2282ef579e25"
      },
      "execution_count": 23,
      "outputs": [
        {
          "output_type": "execute_result",
          "data": {
            "text/plain": [
              "OrderedDict([('weight', tensor([0.6992])), ('bias', tensor([0.3086]))])"
            ]
          },
          "metadata": {},
          "execution_count": 23
        }
      ]
    },
    {
      "cell_type": "code",
      "source": [
        "plot_predictions(predictions=y_preds)"
      ],
      "metadata": {
        "id": "Tn9pN-C2J7PI",
        "outputId": "df095649-e31a-4b81-d647-eb47c50ebf38",
        "colab": {
          "base_uri": "https://localhost:8080/",
          "height": 599
        }
      },
      "execution_count": 24,
      "outputs": [
        {
          "output_type": "display_data",
          "data": {
            "text/plain": [
              "<Figure size 1000x700 with 1 Axes>"
            ],
            "image/png": "[encoded data removed]"
          },
          "metadata": {}
        }
      ]
    },
    {
      "cell_type": "code",
      "source": [
        "with torch.no_grad():\n",
        "  y_preds_new = model_0(X_test)\n",
        "\n",
        "plot_predictions(predictions=y_preds_new)"
      ],
      "metadata": {
        "colab": {
          "base_uri": "https://localhost:8080/",
          "height": 599
        },
        "id": "3AYcgXyAHyxJ",
        "outputId": "e50fba7c-fc13-4bef-aa1f-5bb6aec7a332"
      },
      "execution_count": 25,
      "outputs": [
        {
          "output_type": "display_data",
          "data": {
            "text/plain": [
              "<Figure size 1000x700 with 1 Axes>"
            ],
            "image/png": "[encoded data removed]"
          },
          "metadata": {}
        }
      ]
    },
    {
      "cell_type": "markdown",
      "source": [
        "## Saving a model in Pytorch\n",
        "1. `torch.save()` -allows me save a PyTorch object in python pickle format\n",
        "2. `torch.load()` -allows me load a saved PyTorch object\n",
        "3. `torch.nn.load_state_dict()` -allows me to load a model's saved state dicttionary\n",
        "\n",
        "https://pytorch.org/tutorials/beginner/saving_loading_models.html#saving-loading-model-for-inference"
      ],
      "metadata": {
        "id": "De6FNyeqJ_tp"
      }
    },
    {
      "cell_type": "code",
      "source": [
        "model_0.state_dict()"
      ],
      "metadata": {
        "colab": {
          "base_uri": "https://localhost:8080/"
        },
        "id": "sn0iTG_iF2Og",
        "outputId": "71834668-56ae-4afc-9a5b-39255c3e5994"
      },
      "execution_count": 26,
      "outputs": [
        {
          "output_type": "execute_result",
          "data": {
            "text/plain": [
              "OrderedDict([('weight', tensor([0.6992])), ('bias', tensor([0.3086]))])"
            ]
          },
          "metadata": {},
          "execution_count": 26
        }
      ]
    },
    {
      "cell_type": "code",
      "source": [
        "# Save my pytorch model\n",
        "from pathlib import Path\n",
        "\n",
        "# 1.Create models directory\n",
        "MODEL_PATH = Path(\"models\")\n",
        "MODEL_PATH.mkdir(parents=True,exist_ok=True)\n",
        "\n",
        "# 2. Create model save path\n",
        "MODEL_NAME = \"01_pytorch_workflow_model.pth\"\n",
        "MODEL_SAVE_PATH = MODEL_PATH / MODEL_NAME\n",
        "\n",
        "# 3. Save the state dict\n",
        "print(f\"Save model to: {MODEL_SAVE_PATH}\")\n",
        "torch.save(obj=model_0.state_dict(),f=MODEL_SAVE_PATH)"
      ],
      "metadata": {
        "colab": {
          "base_uri": "https://localhost:8080/"
        },
        "id": "BLDBWC8EHi8j",
        "outputId": "2039c6f4-8522-43a7-feca-82c4dac30a21"
      },
      "execution_count": 28,
      "outputs": [
        {
          "output_type": "stream",
          "name": "stdout",
          "text": [
            "Save model to: models/01_pytorch_workflow_model.pth\n"
          ]
        }
      ]
    },
    {
      "cell_type": "markdown",
      "source": [
        "## Loading a PyTorch model\n",
        "\n",
        "By load the saved `state_dict()` into a new instance of my model class."
      ],
      "metadata": {
        "id": "NHSURBbLJ8zl"
      }
    },
    {
      "cell_type": "code",
      "source": [
        "model_0.state_dict()"
      ],
      "metadata": {
        "colab": {
          "base_uri": "https://localhost:8080/"
        },
        "id": "2m-DEYKCN_3O",
        "outputId": "acb7593f-24df-446e-952e-666e30a680bc"
      },
      "execution_count": 29,
      "outputs": [
        {
          "output_type": "execute_result",
          "data": {
            "text/plain": [
              "OrderedDict([('weight', tensor([0.6992])), ('bias', tensor([0.3086]))])"
            ]
          },
          "metadata": {},
          "execution_count": 29
        }
      ]
    },
    {
      "cell_type": "code",
      "source": [
        "# To load in a saved state_dict I have to instatiate a new instance or my created model class\n",
        "loaded_model_0 = LinearRegressionModel()\n",
        "loaded_model_0.state_dict()"
      ],
      "metadata": {
        "colab": {
          "base_uri": "https://localhost:8080/"
        },
        "id": "BEgMk6GIOGvR",
        "outputId": "16c8ed1d-85c3-4cd0-b4c1-f6daff271ead"
      },
      "execution_count": 30,
      "outputs": [
        {
          "output_type": "execute_result",
          "data": {
            "text/plain": [
              "OrderedDict([('weight', tensor([-2.6341])), ('bias', tensor([-1.6891]))])"
            ]
          },
          "metadata": {},
          "execution_count": 30
        }
      ]
    },
    {
      "cell_type": "code",
      "source": [
        "# Load the saved state_dict of model_0 will update the new instance with updated parameters)\n",
        "loaded_model_0.load_state_dict(torch.load(f=MODEL_SAVE_PATH))"
      ],
      "metadata": {
        "colab": {
          "base_uri": "https://localhost:8080/"
        },
        "id": "Ox0kSZWKO1H6",
        "outputId": "e32403b4-b704-4cd7-a1e3-daf273cfff54"
      },
      "execution_count": 31,
      "outputs": [
        {
          "output_type": "execute_result",
          "data": {
            "text/plain": [
              "<All keys matched successfully>"
            ]
          },
          "metadata": {},
          "execution_count": 31
        }
      ]
    },
    {
      "cell_type": "code",
      "source": [
        "loaded_model_0.state_dict() == model_0.state_dict()"
      ],
      "metadata": {
        "colab": {
          "base_uri": "https://localhost:8080/"
        },
        "id": "Ry_JCQ3-P3PA",
        "outputId": "e45f01fc-ee5e-4fb1-fda2-e23b250dd3bd"
      },
      "execution_count": 32,
      "outputs": [
        {
          "output_type": "execute_result",
          "data": {
            "text/plain": [
              "True"
            ]
          },
          "metadata": {},
          "execution_count": 32
        }
      ]
    },
    {
      "cell_type": "code",
      "source": [],
      "metadata": {
        "id": "OCYHTG7-P-6O"
      },
      "execution_count": null,
      "outputs": []
    }
  ]
}