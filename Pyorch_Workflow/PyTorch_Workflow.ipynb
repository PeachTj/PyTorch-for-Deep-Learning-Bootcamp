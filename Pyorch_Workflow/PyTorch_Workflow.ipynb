{
  "nbformat": 4,
  "nbformat_minor": 0,
  "metadata": {
    "colab": {
      "provenance": [],
      "gpuType": "T4"
    },
    "kernelspec": {
      "name": "python3",
      "display_name": "Python 3"
    },
    "language_info": {
      "name": "python"
    },
    "accelerator": "GPU"
  },
  "cells": [
    {
      "cell_type": "markdown",
      "source": [
        "## Pytorch Workflow\n",
        "1. Data Prepare & load\n",
        "2. Build model\n",
        "3. Training, fitting data\n",
        "4. Making predictions, evaluating\n",
        "5. Save model & load model\n",
        "6. putting together\n",
        "\n",
        "Get data intoa numerical representation\n",
        "\n",
        "\n",
        "Build a model to learn patterns in that numerica representation"
      ],
      "metadata": {
        "id": "0jQq0zbiwoZ7"
      }
    },
    {
      "cell_type": "code",
      "source": [
        "import torch\n",
        "from torch import nn\n",
        "import matplotlib.pyplot as plt\n",
        "\n",
        "torch.__version__"
      ],
      "metadata": {
        "colab": {
          "base_uri": "https://localhost:8080/",
          "height": 35
        },
        "id": "KZTQ2GISw6VJ",
        "outputId": "8b54cdc8-c75a-4387-c088-3b6d0a785ebf"
      },
      "execution_count": 46,
      "outputs": [
        {
          "output_type": "execute_result",
          "data": {
            "text/plain": [
              "'2.5.1+cu124'"
            ],
            "application/vnd.google.colaboratory.intrinsic+json": {
              "type": "string"
            }
          },
          "metadata": {},
          "execution_count": 46
        }
      ]
    },
    {
      "cell_type": "code",
      "source": [
        "# Create *know* parameters\n",
        "weight = 0.7\n",
        "bias = 0.3\n",
        "\n",
        "start=0\n",
        "end=1\n",
        "step=0.02\n",
        "\n",
        "X = torch.arange(start,end,step).unsqueeze(dim=1)\n",
        "Y = weight * X + bias"
      ],
      "metadata": {
        "id": "ejlFe4RXx6Dt"
      },
      "execution_count": 47,
      "outputs": []
    },
    {
      "cell_type": "code",
      "source": [
        "X[:10],Y[:10]"
      ],
      "metadata": {
        "colab": {
          "base_uri": "https://localhost:8080/"
        },
        "id": "STdl14gs0x-L",
        "outputId": "85671b86-48f3-44e7-fd1f-562ba2b0cc81"
      },
      "execution_count": 48,
      "outputs": [
        {
          "output_type": "execute_result",
          "data": {
            "text/plain": [
              "(tensor([[0.0000],\n",
              "         [0.0200],\n",
              "         [0.0400],\n",
              "         [0.0600],\n",
              "         [0.0800],\n",
              "         [0.1000],\n",
              "         [0.1200],\n",
              "         [0.1400],\n",
              "         [0.1600],\n",
              "         [0.1800]]),\n",
              " tensor([[0.3000],\n",
              "         [0.3140],\n",
              "         [0.3280],\n",
              "         [0.3420],\n",
              "         [0.3560],\n",
              "         [0.3700],\n",
              "         [0.3840],\n",
              "         [0.3980],\n",
              "         [0.4120],\n",
              "         [0.4260]]))"
            ]
          },
          "metadata": {},
          "execution_count": 48
        }
      ]
    },
    {
      "cell_type": "code",
      "source": [
        "len(X),len(Y)"
      ],
      "metadata": {
        "colab": {
          "base_uri": "https://localhost:8080/"
        },
        "id": "7CY0fjM600R_",
        "outputId": "053013f6-b64e-4c4a-c798-0da7bbf1c590"
      },
      "execution_count": 49,
      "outputs": [
        {
          "output_type": "execute_result",
          "data": {
            "text/plain": [
              "(50, 50)"
            ]
          },
          "metadata": {},
          "execution_count": 49
        }
      ]
    },
    {
      "cell_type": "markdown",
      "source": [
        "## Splitting data into training and test set"
      ],
      "metadata": {
        "id": "hwtjyqpv1VIX"
      }
    },
    {
      "cell_type": "markdown",
      "source": [
        "Create a train/test split"
      ],
      "metadata": {
        "id": "YSmGMdd_4DvU"
      }
    },
    {
      "cell_type": "code",
      "source": [
        "train_split = int(0.8*len(X))\n",
        "X_train,Y_train = X[:train_split],Y[:train_split]\n",
        "X_test,Y_test = X[train_split:],Y[train_split:]"
      ],
      "metadata": {
        "id": "ubRwLnoS4cpd"
      },
      "execution_count": 50,
      "outputs": []
    },
    {
      "cell_type": "code",
      "source": [
        "len(X_train),len(Y_train),len(X_test),len(Y_test)"
      ],
      "metadata": {
        "colab": {
          "base_uri": "https://localhost:8080/"
        },
        "id": "oids8x2d5J7i",
        "outputId": "8747f116-568c-4198-fee2-63db4b5996a7"
      },
      "execution_count": 51,
      "outputs": [
        {
          "output_type": "execute_result",
          "data": {
            "text/plain": [
              "(40, 40, 10, 10)"
            ]
          },
          "metadata": {},
          "execution_count": 51
        }
      ]
    },
    {
      "cell_type": "markdown",
      "source": [
        "Building a function to Visualize my data"
      ],
      "metadata": {
        "id": "1SIUs49x5UzS"
      }
    },
    {
      "cell_type": "code",
      "source": [
        "def plot_predictions(\n",
        "    train_data=X_train,\n",
        "    train_labels=Y_train, # 'train_labels' represents the actual target values (labels) corresponding to the training data.\n",
        "    test_data=X_test,\n",
        "    test_labels=Y_test,\n",
        "    predictions=None,):\n",
        "\n",
        "  \"\"\"\n",
        "  Plots training data, test data and compares predictions\n",
        "  \"\"\"\n",
        "  plt.figure(figsize=(10,7))\n",
        "\n",
        "  # Plot training data in blue\n",
        "  plt.scatter(train_data, train_labels, c=\"b\", s=5, label=\"Training data\")\n",
        "\n",
        "  # Plot test data in green\n",
        "  plt.scatter(test_data, test_labels, c=\"g\", s=5, label=\"Testing data\")\n",
        "\n",
        "  if predictions is not None:\n",
        "    # Plot the predictions if exist\n",
        "    plt.scatter(test_data, predictions, c=\"r\", s=5, label=\"Prediction data\")\n",
        "\n",
        "  # Show the legend\n",
        "  plt.legend(prop={\"size\":14})"
      ],
      "metadata": {
        "id": "AZRnh5Wo6uiM"
      },
      "execution_count": 52,
      "outputs": []
    },
    {
      "cell_type": "code",
      "source": [
        "plot_predictions()"
      ],
      "metadata": {
        "colab": {
          "base_uri": "https://localhost:8080/",
          "height": 545
        },
        "id": "XcbJ6Qw__uXE",
        "outputId": "70c0e0c8-9577-4e5d-ca54-da56ac9f7513"
      },
      "execution_count": 53,
      "outputs": [
        {
          "output_type": "display_data",
          "data": {
            "text/plain": [
              "<Figure size 1000x700 with 1 Axes>"
            ],
            "image/png": "[encoded data removed]"
          },
          "metadata": {}
        }
      ]
    },
    {
      "cell_type": "markdown",
      "source": [
        "## Build model\n",
        "\n",
        "Building class:\n",
        "https://realpython.com/python3-object-oriented-programming/\n",
        "\n",
        "Base class for all neural network modules.\n",
        "\n",
        "https://pytorch.org/docs/stable/generated/torch.nn.Module.html"
      ],
      "metadata": {
        "id": "G8uNoEHMCbzi"
      }
    },
    {
      "cell_type": "markdown",
      "source": [
        "### What Our Model Does\n",
        "\n",
        "- **Start with random values** (weight & bias)\n",
        "- **Look at training data** and adjust the random values to better represent (or get closer to) the ideal values (the weight & bias values we used to create the data)\n",
        "\n",
        "#### How Does It Do So?\n",
        "\n",
        "Through two main algorithms:\n",
        "\n",
        "1. **Gradient Descent**\n",
        "2. **Backpropagation**\n",
        "\n",
        "#### this model's building essentials:\n",
        "1. `nn.Module` contains the larger building blocks (layers)\n",
        "2. `nn.Parameter` contains the smaller parameters like weights and biases (put these together to make nn.Module(s))\n",
        "3. `forward()` tells the larger blocks how to make calculations on inputs (tensors full of data) within nn.Module(s)"
      ],
      "metadata": {
        "id": "-eP_G1oVNA8w"
      }
    },
    {
      "cell_type": "code",
      "source": [
        "from torch import nn\n",
        "\n",
        "#Create liear regression model class\n",
        "class LinearRegressionModel(nn.Module):\n",
        "  def __init__(self):\n",
        "    super().__init__()\n",
        "\n",
        "    # Define trainable parameter for the model\n",
        "    self.weight = nn.Parameter(torch.randn(1,\n",
        "                         requires_grad=True,\n",
        "                         dtype=torch.float))\n",
        "\n",
        "    self.bias = nn.Parameter(torch.randn(1,\n",
        "                        requires_grad=True,\n",
        "                        dtype=torch.float))\n",
        "\n",
        "  # Forward method to define the computation in the model\n",
        "  def forward(self, x: torch.Tensor) -> torch.Tensor:\n",
        "    \"\"\"\n",
        "    Defines the forward pass of the neural network.\n",
        "    Args:\n",
        "        x (torch.Tensor): The input tensor to the model.\n",
        "    Returns:\n",
        "        torch.Tensor: The output tensor after processing.\n",
        "    \"\"\"\n",
        "    return self.weight * x + self.bias"
      ],
      "metadata": {
        "id": "fMLe0Gnt7i95"
      },
      "execution_count": 61,
      "outputs": []
    },
    {
      "cell_type": "markdown",
      "source": [
        "### Pytorch model building essentials\n",
        "* torch.nn      - for computational graphs\n",
        "* torch.nn.Parameter - for model to learn and try parameters(ofen in a pytorch layer)\n",
        "* torch.nn.Module   - The base class for all neural network modules, overwrite forward if subclassed\n",
        "* def forward    - define model's forward computation\n",
        "\n",
        "more:https://pytorch.org/tutorials/beginner/ptcheat.html"
      ],
      "metadata": {
        "id": "Dbyj7a7tM_ed"
      }
    },
    {
      "cell_type": "markdown",
      "source": [
        "### Checking the contents of PyTorch model\n",
        "`.parameters()` for check out model parameters or what's inside our model"
      ],
      "metadata": {
        "id": "txc0qMB-QHXX"
      }
    },
    {
      "cell_type": "code",
      "source": [
        "# Create a random seed\n",
        "torch.manual_seed(4221)\n",
        "\n",
        "# Create an instance of the model\n",
        "model_0 = LinearRegressionModel()\n",
        "\n",
        "model_0"
      ],
      "metadata": {
        "colab": {
          "base_uri": "https://localhost:8080/"
        },
        "id": "PMVwAHPmUUOe",
        "outputId": "9e2f5fa4-5016-4877-f36b-debc85271884"
      },
      "execution_count": 62,
      "outputs": [
        {
          "output_type": "execute_result",
          "data": {
            "text/plain": [
              "LinearRegressionModel()"
            ]
          },
          "metadata": {},
          "execution_count": 62
        }
      ]
    },
    {
      "cell_type": "code",
      "source": [
        "# Check out parameters\n",
        "model_0.parameters()\n",
        "list(model_0.parameters())"
      ],
      "metadata": {
        "colab": {
          "base_uri": "https://localhost:8080/"
        },
        "id": "ZzwDWjf7U1m7",
        "outputId": "9bdaaab4-746b-498a-da0d-87aa23280f47"
      },
      "execution_count": 63,
      "outputs": [
        {
          "output_type": "execute_result",
          "data": {
            "text/plain": [
              "[Parameter containing:\n",
              " tensor([-0.9314], requires_grad=True),\n",
              " Parameter containing:\n",
              " tensor([-0.6524], requires_grad=True)]"
            ]
          },
          "metadata": {},
          "execution_count": 63
        }
      ]
    },
    {
      "cell_type": "code",
      "source": [
        "# List named parameters\n",
        "model_0.state_dict()"
      ],
      "metadata": {
        "colab": {
          "base_uri": "https://localhost:8080/"
        },
        "id": "1sfW-x-OcuE1",
        "outputId": "31519d56-5d41-4979-8996-433fbd863ad0"
      },
      "execution_count": 64,
      "outputs": [
        {
          "output_type": "execute_result",
          "data": {
            "text/plain": [
              "OrderedDict([('weight', tensor([-0.9314])), ('bias', tensor([-0.6524]))])"
            ]
          },
          "metadata": {},
          "execution_count": 64
        }
      ]
    },
    {
      "cell_type": "markdown",
      "source": [
        "### Making prediction using torch.inference_mode()\n",
        "* Using X_test to predicts y_test.\n",
        "* Run data through the forward() method\n",
        "* using `inference_mode()``torch.no_grad()` to turn of gradient tracking, and save a lot of time"
      ],
      "metadata": {
        "id": "7ZqNDkY5c1Nc"
      }
    },
    {
      "cell_type": "code",
      "source": [
        "X_test, Y_test"
      ],
      "metadata": {
        "colab": {
          "base_uri": "https://localhost:8080/"
        },
        "id": "zdI1s70tmPDX",
        "outputId": "6317201c-6059-4bb9-d596-9bccdab9768d"
      },
      "execution_count": 65,
      "outputs": [
        {
          "output_type": "execute_result",
          "data": {
            "text/plain": [
              "(tensor([[0.8000],\n",
              "         [0.8200],\n",
              "         [0.8400],\n",
              "         [0.8600],\n",
              "         [0.8800],\n",
              "         [0.9000],\n",
              "         [0.9200],\n",
              "         [0.9400],\n",
              "         [0.9600],\n",
              "         [0.9800]]),\n",
              " tensor([[0.8600],\n",
              "         [0.8740],\n",
              "         [0.8880],\n",
              "         [0.9020],\n",
              "         [0.9160],\n",
              "         [0.9300],\n",
              "         [0.9440],\n",
              "         [0.9580],\n",
              "         [0.9720],\n",
              "         [0.9860]]))"
            ]
          },
          "metadata": {},
          "execution_count": 65
        }
      ]
    },
    {
      "cell_type": "code",
      "source": [
        "# Making predictions with model\n",
        "# with torch.inference_mode():\n",
        "#   y_preds = model_0(X_test)\n",
        "with torch.no_grad():\n",
        "  y_preds = model_0(X_test)\n",
        "y_preds"
      ],
      "metadata": {
        "colab": {
          "base_uri": "https://localhost:8080/"
        },
        "id": "7Y6LDQ1wlyYa",
        "outputId": "2e4f2f80-311d-4ba0-81ef-e4e4d648610d"
      },
      "execution_count": 69,
      "outputs": [
        {
          "output_type": "execute_result",
          "data": {
            "text/plain": [
              "tensor([[-1.3975],\n",
              "        [-1.4161],\n",
              "        [-1.4348],\n",
              "        [-1.4534],\n",
              "        [-1.4720],\n",
              "        [-1.4906],\n",
              "        [-1.5093],\n",
              "        [-1.5279],\n",
              "        [-1.5465],\n",
              "        [-1.5652]])"
            ]
          },
          "metadata": {},
          "execution_count": 69
        }
      ]
    },
    {
      "cell_type": "code",
      "source": [
        "plot_predictions(predictions=y_preds)"
      ],
      "metadata": {
        "colab": {
          "base_uri": "https://localhost:8080/",
          "height": 538
        },
        "id": "z1IETA-Jnyzy",
        "outputId": "35b41d70-c13f-468d-98fa-1baf07fa86c7"
      },
      "execution_count": 70,
      "outputs": [
        {
          "output_type": "display_data",
          "data": {
            "text/plain": [
              "<Figure size 1000x700 with 1 Axes>"
            ],
            "image/png": "[encoded data removed]"
          },
          "metadata": {}
        }
      ]
    },
    {
      "cell_type": "code",
      "source": [],
      "metadata": {
        "id": "Mt5zvuQmo1pM"
      },
      "execution_count": null,
      "outputs": []
    }
  ]
}