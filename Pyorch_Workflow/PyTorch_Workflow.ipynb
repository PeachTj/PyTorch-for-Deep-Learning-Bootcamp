{
  "nbformat": 4,
  "nbformat_minor": 0,
  "metadata": {
    "colab": {
      "provenance": [],
      "gpuType": "T4"
    },
    "kernelspec": {
      "name": "python3",
      "display_name": "Python 3"
    },
    "language_info": {
      "name": "python"
    },
    "accelerator": "GPU"
  },
  "cells": [
    {
      "cell_type": "markdown",
      "source": [
        "## Pytorch Workflow\n",
        "1. Data Prepare & load\n",
        "2. Build model\n",
        "3. Training, fitting data\n",
        "4. Making predictions, evaluating\n",
        "5. Save model & load model\n",
        "6. putting together\n",
        "\n",
        "Get data intoa numerical representation\n",
        "\n",
        "\n",
        "Build a model to learn patterns in that numerica representation"
      ],
      "metadata": {
        "id": "0jQq0zbiwoZ7"
      }
    },
    {
      "cell_type": "code",
      "source": [
        "import torch\n",
        "from torch import nn\n",
        "import matplotlib.pyplot as plt\n",
        "\n",
        "torch.__version__"
      ],
      "metadata": {
        "colab": {
          "base_uri": "https://localhost:8080/",
          "height": 35
        },
        "id": "KZTQ2GISw6VJ",
        "outputId": "806fa187-2bba-493c-f7dc-fcfab20ba332"
      },
      "execution_count": 72,
      "outputs": [
        {
          "output_type": "execute_result",
          "data": {
            "text/plain": [
              "'2.6.0+cu124'"
            ],
            "application/vnd.google.colaboratory.intrinsic+json": {
              "type": "string"
            }
          },
          "metadata": {},
          "execution_count": 72
        }
      ]
    },
    {
      "cell_type": "code",
      "source": [
        "# Create *know* parameters\n",
        "weight = 0.7\n",
        "bias = 0.3\n",
        "\n",
        "start=0\n",
        "end=1\n",
        "step=0.02\n",
        "\n",
        "X = torch.arange(start,end,step).unsqueeze(dim=1)\n",
        "Y = weight * X + bias"
      ],
      "metadata": {
        "id": "ejlFe4RXx6Dt"
      },
      "execution_count": 73,
      "outputs": []
    },
    {
      "cell_type": "code",
      "source": [
        "X[:10],Y[:10]"
      ],
      "metadata": {
        "colab": {
          "base_uri": "https://localhost:8080/"
        },
        "id": "STdl14gs0x-L",
        "outputId": "d36258b7-b629-4edb-fc05-9501aba1df7e"
      },
      "execution_count": 74,
      "outputs": [
        {
          "output_type": "execute_result",
          "data": {
            "text/plain": [
              "(tensor([[0.0000],\n",
              "         [0.0200],\n",
              "         [0.0400],\n",
              "         [0.0600],\n",
              "         [0.0800],\n",
              "         [0.1000],\n",
              "         [0.1200],\n",
              "         [0.1400],\n",
              "         [0.1600],\n",
              "         [0.1800]]),\n",
              " tensor([[0.3000],\n",
              "         [0.3140],\n",
              "         [0.3280],\n",
              "         [0.3420],\n",
              "         [0.3560],\n",
              "         [0.3700],\n",
              "         [0.3840],\n",
              "         [0.3980],\n",
              "         [0.4120],\n",
              "         [0.4260]]))"
            ]
          },
          "metadata": {},
          "execution_count": 74
        }
      ]
    },
    {
      "cell_type": "code",
      "source": [
        "len(X),len(Y)"
      ],
      "metadata": {
        "colab": {
          "base_uri": "https://localhost:8080/"
        },
        "id": "7CY0fjM600R_",
        "outputId": "b22e0f41-0b9d-448d-b4db-96583f1f14a0"
      },
      "execution_count": 75,
      "outputs": [
        {
          "output_type": "execute_result",
          "data": {
            "text/plain": [
              "(50, 50)"
            ]
          },
          "metadata": {},
          "execution_count": 75
        }
      ]
    },
    {
      "cell_type": "markdown",
      "source": [
        "## Splitting data into training and test set"
      ],
      "metadata": {
        "id": "hwtjyqpv1VIX"
      }
    },
    {
      "cell_type": "markdown",
      "source": [
        "Create a train/test split"
      ],
      "metadata": {
        "id": "YSmGMdd_4DvU"
      }
    },
    {
      "cell_type": "code",
      "source": [
        "train_split = int(0.8*len(X))\n",
        "X_train,Y_train = X[:train_split],Y[:train_split]\n",
        "X_test,Y_test = X[train_split:],Y[train_split:]"
      ],
      "metadata": {
        "id": "ubRwLnoS4cpd"
      },
      "execution_count": 76,
      "outputs": []
    },
    {
      "cell_type": "code",
      "source": [
        "len(X_train),len(Y_train),len(X_test),len(Y_test)"
      ],
      "metadata": {
        "colab": {
          "base_uri": "https://localhost:8080/"
        },
        "id": "oids8x2d5J7i",
        "outputId": "81047eb0-7724-438b-f547-08434b75796d"
      },
      "execution_count": 77,
      "outputs": [
        {
          "output_type": "execute_result",
          "data": {
            "text/plain": [
              "(40, 40, 10, 10)"
            ]
          },
          "metadata": {},
          "execution_count": 77
        }
      ]
    },
    {
      "cell_type": "markdown",
      "source": [
        "Building a function to Visualize my data"
      ],
      "metadata": {
        "id": "1SIUs49x5UzS"
      }
    },
    {
      "cell_type": "code",
      "source": [
        "def plot_predictions(\n",
        "    train_data=X_train,\n",
        "    train_labels=Y_train, # 'train_labels' represents the actual target values (labels) corresponding to the training data.\n",
        "    test_data=X_test,\n",
        "    test_labels=Y_test,\n",
        "    predictions=None,):\n",
        "\n",
        "  \"\"\"\n",
        "  Plots training data, test data and compares predictions\n",
        "  \"\"\"\n",
        "  plt.figure(figsize=(10,7))\n",
        "\n",
        "  # Plot training data in blue\n",
        "  plt.scatter(train_data, train_labels, c=\"b\", s=5, label=\"Training data\")\n",
        "\n",
        "  # Plot test data in green\n",
        "  plt.scatter(test_data, test_labels, c=\"g\", s=5, label=\"Testing data\")\n",
        "\n",
        "  if predictions is not None:\n",
        "    # Plot the predictions if exist\n",
        "    plt.scatter(test_data, predictions, c=\"r\", s=5, label=\"Prediction data\")\n",
        "\n",
        "  # Show the legend\n",
        "  plt.legend(prop={\"size\":14})"
      ],
      "metadata": {
        "id": "AZRnh5Wo6uiM"
      },
      "execution_count": 78,
      "outputs": []
    },
    {
      "cell_type": "code",
      "source": [
        "plot_predictions()"
      ],
      "metadata": {
        "colab": {
          "base_uri": "https://localhost:8080/",
          "height": 599
        },
        "id": "XcbJ6Qw__uXE",
        "outputId": "40ec042c-d069-4e14-c8c8-6bf431e9c377"
      },
      "execution_count": 79,
      "outputs": [
        {
          "output_type": "display_data",
          "data": {
            "text/plain": [
              "<Figure size 1000x700 with 1 Axes>"
            ],
            "image/png": "[encoded data removed]"
          },
          "metadata": {}
        }
      ]
    },
    {
      "cell_type": "markdown",
      "source": [
        "## Build model\n",
        "\n",
        "Building class:\n",
        "https://realpython.com/python3-object-oriented-programming/\n",
        "\n",
        "Base class for all neural network modules.\n",
        "\n",
        "https://pytorch.org/docs/stable/generated/torch.nn.Module.html"
      ],
      "metadata": {
        "id": "G8uNoEHMCbzi"
      }
    },
    {
      "cell_type": "markdown",
      "source": [
        "### What Our Model Does\n",
        "\n",
        "- **Start with random values** (weight & bias)\n",
        "- **Look at training data** and adjust the random values to better represent (or get closer to) the ideal values (the weight & bias values we used to create the data)\n",
        "\n",
        "#### How Does It Do So?\n",
        "\n",
        "Through two main algorithms:\n",
        "\n",
        "1. **Gradient Descent**\n",
        "2. **Backpropagation**\n",
        "\n",
        "#### this model's building essentials:\n",
        "1. `nn.Module` contains the larger building blocks (layers)\n",
        "2. `nn.Parameter` contains the smaller parameters like weights and biases (put these together to make nn.Module(s))\n",
        "3. `forward()` tells the larger blocks how to make calculations on inputs (tensors full of data) within nn.Module(s)"
      ],
      "metadata": {
        "id": "-eP_G1oVNA8w"
      }
    },
    {
      "cell_type": "code",
      "source": [
        "from torch import nn\n",
        "\n",
        "#Create liear regression model class\n",
        "class LinearRegressionModel(nn.Module):\n",
        "  def __init__(self):\n",
        "    super().__init__()\n",
        "\n",
        "    # Define trainable parameter for the model\n",
        "    self.weight = nn.Parameter(torch.randn(1,\n",
        "                         requires_grad=True,\n",
        "                         dtype=torch.float))\n",
        "\n",
        "    self.bias = nn.Parameter(torch.randn(1,\n",
        "                        requires_grad=True,\n",
        "                        dtype=torch.float))\n",
        "\n",
        "  # Forward method to define the computation in the model\n",
        "  def forward(self, x: torch.Tensor) -> torch.Tensor:\n",
        "    \"\"\"\n",
        "    Defines the forward pass of the neural network.\n",
        "    Args:\n",
        "        x (torch.Tensor): The input tensor to the model.\n",
        "    Returns:\n",
        "        torch.Tensor: The output tensor after processing.\n",
        "    \"\"\"\n",
        "    return self.weight * x + self.bias"
      ],
      "metadata": {
        "id": "fMLe0Gnt7i95"
      },
      "execution_count": 80,
      "outputs": []
    },
    {
      "cell_type": "markdown",
      "source": [
        "### Pytorch model building essentials\n",
        "* torch.nn      - for computational graphs\n",
        "* torch.nn.Parameter - for model to learn and try parameters(ofen in a pytorch layer)\n",
        "* torch.nn.Module   - The base class for all neural network modules, overwrite forward if subclassed\n",
        "* def forward    - define model's forward computation\n",
        "\n",
        "more:https://pytorch.org/tutorials/beginner/ptcheat.html"
      ],
      "metadata": {
        "id": "Dbyj7a7tM_ed"
      }
    },
    {
      "cell_type": "markdown",
      "source": [
        "### Checking the contents of PyTorch model\n",
        "`.parameters()` for check out model parameters or what's inside our model"
      ],
      "metadata": {
        "id": "txc0qMB-QHXX"
      }
    },
    {
      "cell_type": "code",
      "source": [
        "# Create a random seed\n",
        "torch.manual_seed(4221)\n",
        "\n",
        "# Create an instance of the model\n",
        "model_0 = LinearRegressionModel()\n",
        "\n",
        "model_0"
      ],
      "metadata": {
        "colab": {
          "base_uri": "https://localhost:8080/"
        },
        "id": "PMVwAHPmUUOe",
        "outputId": "225cc5b4-009a-4683-d961-c9b34a95aeaa"
      },
      "execution_count": 81,
      "outputs": [
        {
          "output_type": "execute_result",
          "data": {
            "text/plain": [
              "LinearRegressionModel()"
            ]
          },
          "metadata": {},
          "execution_count": 81
        }
      ]
    },
    {
      "cell_type": "code",
      "source": [
        "# Check out parameters\n",
        "model_0.parameters()\n",
        "list(model_0.parameters())"
      ],
      "metadata": {
        "colab": {
          "base_uri": "https://localhost:8080/"
        },
        "id": "ZzwDWjf7U1m7",
        "outputId": "a629f67e-6013-43be-80c9-002730a66907"
      },
      "execution_count": 82,
      "outputs": [
        {
          "output_type": "execute_result",
          "data": {
            "text/plain": [
              "[Parameter containing:\n",
              " tensor([-0.9314], requires_grad=True),\n",
              " Parameter containing:\n",
              " tensor([-0.6524], requires_grad=True)]"
            ]
          },
          "metadata": {},
          "execution_count": 82
        }
      ]
    },
    {
      "cell_type": "code",
      "source": [
        "# List named parameters\n",
        "model_0.state_dict()"
      ],
      "metadata": {
        "colab": {
          "base_uri": "https://localhost:8080/"
        },
        "id": "1sfW-x-OcuE1",
        "outputId": "d71f6f7e-dba1-4f08-e7a3-2e2a74d9fced"
      },
      "execution_count": 83,
      "outputs": [
        {
          "output_type": "execute_result",
          "data": {
            "text/plain": [
              "OrderedDict([('weight', tensor([-0.9314])), ('bias', tensor([-0.6524]))])"
            ]
          },
          "metadata": {},
          "execution_count": 83
        }
      ]
    },
    {
      "cell_type": "markdown",
      "source": [
        "### Making prediction using torch.inference_mode()\n",
        "* Using X_test to predicts y_test.\n",
        "* Run data through the forward() method\n",
        "* using `inference_mode()``torch.no_grad()` to turn of gradient tracking, and save a lot of time"
      ],
      "metadata": {
        "id": "7ZqNDkY5c1Nc"
      }
    },
    {
      "cell_type": "code",
      "source": [
        "X_test, Y_test"
      ],
      "metadata": {
        "colab": {
          "base_uri": "https://localhost:8080/"
        },
        "id": "zdI1s70tmPDX",
        "outputId": "acb9f953-3955-4687-a8a2-2201a44ee93c"
      },
      "execution_count": 84,
      "outputs": [
        {
          "output_type": "execute_result",
          "data": {
            "text/plain": [
              "(tensor([[0.8000],\n",
              "         [0.8200],\n",
              "         [0.8400],\n",
              "         [0.8600],\n",
              "         [0.8800],\n",
              "         [0.9000],\n",
              "         [0.9200],\n",
              "         [0.9400],\n",
              "         [0.9600],\n",
              "         [0.9800]]),\n",
              " tensor([[0.8600],\n",
              "         [0.8740],\n",
              "         [0.8880],\n",
              "         [0.9020],\n",
              "         [0.9160],\n",
              "         [0.9300],\n",
              "         [0.9440],\n",
              "         [0.9580],\n",
              "         [0.9720],\n",
              "         [0.9860]]))"
            ]
          },
          "metadata": {},
          "execution_count": 84
        }
      ]
    },
    {
      "cell_type": "code",
      "source": [
        "# Making predictions with model\n",
        "# with torch.inference_mode():\n",
        "#   y_preds = model_0(X_test)\n",
        "with torch.no_grad():\n",
        "  y_preds = model_0(X_test)\n",
        "y_preds"
      ],
      "metadata": {
        "colab": {
          "base_uri": "https://localhost:8080/"
        },
        "id": "7Y6LDQ1wlyYa",
        "outputId": "1b59cc58-cea2-450d-f1aa-ebf5fecb4c4e"
      },
      "execution_count": 85,
      "outputs": [
        {
          "output_type": "execute_result",
          "data": {
            "text/plain": [
              "tensor([[-1.3975],\n",
              "        [-1.4161],\n",
              "        [-1.4348],\n",
              "        [-1.4534],\n",
              "        [-1.4720],\n",
              "        [-1.4906],\n",
              "        [-1.5093],\n",
              "        [-1.5279],\n",
              "        [-1.5465],\n",
              "        [-1.5652]])"
            ]
          },
          "metadata": {},
          "execution_count": 85
        }
      ]
    },
    {
      "cell_type": "code",
      "source": [
        "plot_predictions(predictions=y_preds)"
      ],
      "metadata": {
        "colab": {
          "base_uri": "https://localhost:8080/",
          "height": 599
        },
        "id": "z1IETA-Jnyzy",
        "outputId": "a1014074-dea4-42ab-92b7-6ffdcbb72216"
      },
      "execution_count": 86,
      "outputs": [
        {
          "output_type": "display_data",
          "data": {
            "text/plain": [
              "<Figure size 1000x700 with 1 Axes>"
            ],
            "image/png": "[encoded data removed]"
          },
          "metadata": {}
        }
      ]
    },
    {
      "cell_type": "markdown",
      "source": [
        "### Train model\n",
        "**The whole idea:** move from some unknown parameters to some known parameters.\n",
        "(from poor representation of data to a better representation of data)\n",
        "\n",
        "* Representation can be measured by loss function.\n",
        "\n",
        "**Things we need to train:**\n",
        "1. **Loss function:** A function to measure how wrong your model's predictions are, the lower the better.\n",
        "2. **Optimizer**: Take into accout the loss of a model, adjusts the model's parameters to improve the loss. --https://pytorch.org/docs/stable/optim.html\n",
        "\n",
        "For Pytorch:\n",
        "* A training loop\n",
        "* A testing loop"
      ],
      "metadata": {
        "id": "Mt5zvuQmo1pM"
      }
    },
    {
      "cell_type": "code",
      "source": [
        "# Check out model's parameter(parameter value are seted by model itself)\n",
        "model_0.state_dict()"
      ],
      "metadata": {
        "colab": {
          "base_uri": "https://localhost:8080/"
        },
        "id": "ue3lnRIEeWuj",
        "outputId": "8ac8b7fd-0842-494f-b596-a28884d03f8e"
      },
      "execution_count": 87,
      "outputs": [
        {
          "output_type": "execute_result",
          "data": {
            "text/plain": [
              "OrderedDict([('weight', tensor([-0.9314])), ('bias', tensor([-0.6524]))])"
            ]
          },
          "metadata": {},
          "execution_count": 87
        }
      ]
    },
    {
      "cell_type": "code",
      "source": [
        "# Set up a loss function\n",
        "loss_fn = nn.L1Loss()"
      ],
      "metadata": {
        "id": "LLHCXspjev24"
      },
      "execution_count": 88,
      "outputs": []
    },
    {
      "cell_type": "markdown",
      "source": [
        "Iside the optimizer:\n",
        "\n",
        "* **parameter**:the parameter my model should optimize\n",
        "* **lr for learning rate:**define how big/small the optimizer changes the parameter.\n",
        "\n",
        "  * The smaller lr, the smaller the change in parameter\n"
      ],
      "metadata": {
        "id": "9rsfUNh5kunN"
      }
    },
    {
      "cell_type": "code",
      "source": [
        "import torch.optim\n",
        "# Setup an Optimizer (stochastic gradient descent)\n",
        "optimizer = torch.optim.SGD(params=model_0.parameters(),\n",
        "                          lr=0.01)\n",
        "optimizer"
      ],
      "metadata": {
        "colab": {
          "base_uri": "https://localhost:8080/"
        },
        "id": "FGvgTzMIhPp0",
        "outputId": "bd24f3d8-17fe-476c-badd-1a1510903189"
      },
      "execution_count": 89,
      "outputs": [
        {
          "output_type": "execute_result",
          "data": {
            "text/plain": [
              "SGD (\n",
              "Parameter Group 0\n",
              "    dampening: 0\n",
              "    differentiable: False\n",
              "    foreach: None\n",
              "    fused: None\n",
              "    lr: 0.01\n",
              "    maximize: False\n",
              "    momentum: 0\n",
              "    nesterov: False\n",
              "    weight_decay: 0\n",
              ")"
            ]
          },
          "metadata": {},
          "execution_count": 89
        }
      ]
    },
    {
      "cell_type": "markdown",
      "source": [
        "### Building a training loop(and a testing loop) in PyTorch\n",
        "**Training loop:** turn on `.train()` mode\n",
        "0. Loop through the data and do the followings:\n",
        "1. Forward pass    -- involves data moving through our model's `forward()`function to make predictions on propagation\n",
        "2. Caculate the loss --compare forward pass predictions to ground truth labels\n",
        "3. Optimize zero grad\n",
        "4. Loss backward(**back propagation**) -- move backwards through the network to caculate the gradient of each parameters of my model(with respect to the loss)\n",
        "5. Optimize step(**gradient descent**) --use optimizer to adjust my model's parameter to try and improve the loss\n",
        "\n",
        "**Testing loop:**Model don't need to learn any more so turn on `.eval()` to avoid gradient tracking and couple of other things behind the scenes\n"
      ],
      "metadata": {
        "id": "6DTvSQmZlxOS"
      }
    },
    {
      "cell_type": "code",
      "source": [
        "import numpy as np"
      ],
      "metadata": {
        "id": "XtdQapXqH6Iq"
      },
      "execution_count": 90,
      "outputs": []
    },
    {
      "cell_type": "code",
      "source": [
        "# An epoch is one loop through the data(hyperparameter )\n",
        "epochs = 1000\n",
        "\n",
        "# Track different values\n",
        "epoch_count = []\n",
        "train_loss_values = []\n",
        "test_loss_values = []\n",
        "\n",
        "\n",
        "### Training\n",
        "# 0. Loop through the data\n",
        "for epoch in range(epochs):\n",
        "  # Set the model to training mode\n",
        "  model_0.train() # set all parameters need gradient\n",
        "\n",
        "  # 1. Forward pass\n",
        "  y_pred = model_0(X_train)\n",
        "\n",
        "  # 2. Caculate the loss\n",
        "  loss = loss_fn(y_pred,Y_train)\n",
        "\n",
        "  # 3. Optimizer zero grad\n",
        "  optimizer.zero_grad()\n",
        "\n",
        "  # 4. Perform back propagation on the loss with respect to the parameters of model\n",
        "  loss.backward() # avoid optimizer accumulate the changes in every loop\n",
        "\n",
        "  # 5. Step the optimizer (perform gradient descent)\n",
        "  optimizer.step() # by default how the optimizer changes will accumulate through the loop\n",
        "\n",
        "  ### Testing\n",
        "  model_0.eval() # turns off different settings in the model not needed for evaluation/testing(dropout&bact norm layer)\n",
        "  with torch.inference_mode(): # turn off gradient tracking\n",
        "\n",
        "    # 1. Do the forward pass\n",
        "    test_pred = model_0(X_test)\n",
        "\n",
        "    # 2. Caculate the loss\n",
        "    test_loss = loss_fn(test_pred,Y_test)\n",
        "\n",
        "  # Print out what happening\n",
        "  if epoch % 100 == 0:\n",
        "    epoch_count.append(epoch)\n",
        "    train_loss_values.append(loss.detach().numpy())\n",
        "    test_loss_values.append(test_loss.detach().numpy())\n",
        "    print(f\"Epoch: {epoch} | Test:{loss} | Loss: {test_loss}\")\n",
        "    print(f\"parameter:{model_0.state_dict()}\")\n"
      ],
      "metadata": {
        "colab": {
          "base_uri": "https://localhost:8080/"
        },
        "collapsed": true,
        "id": "tlvDw42ovt6O",
        "outputId": "2d26e42d-c559-46ea-ea76-8430decc9796"
      },
      "execution_count": 91,
      "outputs": [
        {
          "output_type": "stream",
          "name": "stdout",
          "text": [
            "Epoch: 0 | Test:1.5886412858963013 | Loss: 2.3908557891845703\n",
            "parameter:OrderedDict([('weight', tensor([-0.9275])), ('bias', tensor([-0.6424]))])\n",
            "Epoch: 100 | Test:0.44276753067970276 | Loss: 1.0477834939956665\n",
            "parameter:OrderedDict([('weight', tensor([-0.5375])), ('bias', tensor([0.3536]))])\n",
            "Epoch: 200 | Test:0.18996044993400574 | Loss: 0.47845062613487244\n",
            "parameter:OrderedDict([('weight', tensor([-0.2478])), ('bias', tensor([0.6651]))])\n",
            "Epoch: 300 | Test:0.15417397022247314 | Loss: 0.3594827353954315\n",
            "parameter:OrderedDict([('weight', tensor([-0.0653])), ('bias', tensor([0.6216]))])\n",
            "Epoch: 400 | Test:0.11983616650104523 | Loss: 0.2795070707798004\n",
            "parameter:OrderedDict([('weight', tensor([0.1055])), ('bias', tensor([0.5496]))])\n",
            "Epoch: 500 | Test:0.085487499833107 | Loss: 0.19884394109249115\n",
            "parameter:OrderedDict([('weight', tensor([0.2765])), ('bias', tensor([0.4781]))])\n",
            "Epoch: 600 | Test:0.05115063861012459 | Loss: 0.11886604130268097\n",
            "parameter:OrderedDict([('weight', tensor([0.4472])), ('bias', tensor([0.4061]))])\n",
            "Epoch: 700 | Test:0.016800975427031517 | Loss: 0.038201283663511276\n",
            "parameter:OrderedDict([('weight', tensor([0.6182])), ('bias', tensor([0.3346]))])\n",
            "Epoch: 800 | Test:0.00829241517931223 | Loss: 0.005563861224800348\n",
            "parameter:OrderedDict([('weight', tensor([0.6953])), ('bias', tensor([0.2986]))])\n",
            "Epoch: 900 | Test:0.00829241517931223 | Loss: 0.005563861224800348\n",
            "parameter:OrderedDict([('weight', tensor([0.6953])), ('bias', tensor([0.2986]))])\n"
          ]
        }
      ]
    },
    {
      "cell_type": "code",
      "source": [
        "epoch_count,train_loss_values,test_loss_values"
      ],
      "metadata": {
        "colab": {
          "base_uri": "https://localhost:8080/"
        },
        "id": "ki978xS4E02t",
        "outputId": "10edae01-ea30-4cd1-aec3-1c0f1c55f357"
      },
      "execution_count": 92,
      "outputs": [
        {
          "output_type": "execute_result",
          "data": {
            "text/plain": [
              "([0, 100, 200, 300, 400, 500, 600, 700, 800, 900],\n",
              " [array(1.5886413, dtype=float32),\n",
              "  array(0.44276753, dtype=float32),\n",
              "  array(0.18996045, dtype=float32),\n",
              "  array(0.15417397, dtype=float32),\n",
              "  array(0.11983617, dtype=float32),\n",
              "  array(0.0854875, dtype=float32),\n",
              "  array(0.05115064, dtype=float32),\n",
              "  array(0.01680098, dtype=float32),\n",
              "  array(0.00829242, dtype=float32),\n",
              "  array(0.00829242, dtype=float32)],\n",
              " [array(2.3908558, dtype=float32),\n",
              "  array(1.0477835, dtype=float32),\n",
              "  array(0.47845063, dtype=float32),\n",
              "  array(0.35948274, dtype=float32),\n",
              "  array(0.27950707, dtype=float32),\n",
              "  array(0.19884394, dtype=float32),\n",
              "  array(0.11886604, dtype=float32),\n",
              "  array(0.03820128, dtype=float32),\n",
              "  array(0.00556386, dtype=float32),\n",
              "  array(0.00556386, dtype=float32)])"
            ]
          },
          "metadata": {},
          "execution_count": 92
        }
      ]
    },
    {
      "cell_type": "code",
      "source": [
        "# Plot the loss curves\n",
        "import numpy as np\n",
        "plt.plot(epoch_count,train_loss_values,label=\"Train loss\")\n",
        "plt.plot(epoch_count,test_loss_values,label=\"Test loss\")\n",
        "plt.title(\"Training and test loss curves\")\n",
        "plt.ylabel(\"Loss\")\n",
        "plt.xlabel(\"Epochs\")\n",
        "plt.legend()"
      ],
      "metadata": {
        "colab": {
          "base_uri": "https://localhost:8080/",
          "height": 490
        },
        "id": "jQBG_Wa2E0nj",
        "outputId": "8d464356-c4da-4b73-a6ff-d513464dc1ae"
      },
      "execution_count": 93,
      "outputs": [
        {
          "output_type": "execute_result",
          "data": {
            "text/plain": [
              "<matplotlib.legend.Legend at 0x7c79f71a6290>"
            ]
          },
          "metadata": {},
          "execution_count": 93
        },
        {
          "output_type": "display_data",
          "data": {
            "text/plain": [
              "<Figure size 640x480 with 1 Axes>"
            ],
            "image/png": "[encoded data removed]"
          },
          "metadata": {}
        }
      ]
    },
    {
      "cell_type": "code",
      "source": [
        "model_0.state_dict()"
      ],
      "metadata": {
        "colab": {
          "base_uri": "https://localhost:8080/"
        },
        "id": "Z9xxu5qIHrwh",
        "outputId": "e94713fa-fcd9-44f9-9222-3031b2d910c0"
      },
      "execution_count": 94,
      "outputs": [
        {
          "output_type": "execute_result",
          "data": {
            "text/plain": [
              "OrderedDict([('weight', tensor([0.6992])), ('bias', tensor([0.3086]))])"
            ]
          },
          "metadata": {},
          "execution_count": 94
        }
      ]
    },
    {
      "cell_type": "code",
      "source": [
        "plot_predictions(predictions=y_preds)"
      ],
      "metadata": {
        "id": "Tn9pN-C2J7PI",
        "outputId": "a73f06ba-0cd8-487c-8ffd-5b47da079ab8",
        "colab": {
          "base_uri": "https://localhost:8080/",
          "height": 599
        }
      },
      "execution_count": 95,
      "outputs": [
        {
          "output_type": "display_data",
          "data": {
            "text/plain": [
              "<Figure size 1000x700 with 1 Axes>"
            ],
            "image/png": "[encoded data removed]"
          },
          "metadata": {}
        }
      ]
    },
    {
      "cell_type": "code",
      "source": [
        "with torch.no_grad():\n",
        "  y_preds_new = model_0(X_test)\n",
        "\n",
        "plot_predictions(predictions=y_preds_new)"
      ],
      "metadata": {
        "colab": {
          "base_uri": "https://localhost:8080/",
          "height": 599
        },
        "id": "3AYcgXyAHyxJ",
        "outputId": "7f8ad609-ff93-45cb-aeff-8d4fa558e15d"
      },
      "execution_count": 96,
      "outputs": [
        {
          "output_type": "display_data",
          "data": {
            "text/plain": [
              "<Figure size 1000x700 with 1 Axes>"
            ],
            "image/png": "[encoded data removed]"
          },
          "metadata": {}
        }
      ]
    },
    {
      "cell_type": "markdown",
      "source": [
        "## Saving a model in Pytorch\n",
        "1. `torch.save()` -allows me save a PyTorch object in python pickle format\n",
        "2. `torch.load()` -allows me load a saved PyTorch object\n",
        "3. `torch.nn.load_state_dict()` -allows me to load a model's saved state dicttionary\n",
        "\n",
        "https://pytorch.org/tutorials/beginner/saving_loading_models.html#saving-loading-model-for-inference"
      ],
      "metadata": {
        "id": "De6FNyeqJ_tp"
      }
    },
    {
      "cell_type": "code",
      "source": [
        "model_0.state_dict()"
      ],
      "metadata": {
        "colab": {
          "base_uri": "https://localhost:8080/"
        },
        "id": "sn0iTG_iF2Og",
        "outputId": "25c073ea-10d8-4d05-856c-782066072721"
      },
      "execution_count": 97,
      "outputs": [
        {
          "output_type": "execute_result",
          "data": {
            "text/plain": [
              "OrderedDict([('weight', tensor([0.6992])), ('bias', tensor([0.3086]))])"
            ]
          },
          "metadata": {},
          "execution_count": 97
        }
      ]
    },
    {
      "cell_type": "code",
      "source": [
        "# Save my pytorch model\n",
        "from pathlib import Path\n",
        "\n",
        "# 1.Create models directory\n",
        "MODEL_PATH = Path(\"models\")\n",
        "MODEL_PATH.mkdir(parents=True,exist_ok=True)\n",
        "\n",
        "# 2. Create model save path\n",
        "MODEL_NAME = \"01_pytorch_workflow_model.pth\"\n",
        "MODEL_SAVE_PATH = MODEL_PATH / MODEL_NAME\n",
        "\n",
        "# 3. Save the state dict\n",
        "print(f\"Save model to: {MODEL_SAVE_PATH}\")\n",
        "torch.save(obj=model_0.state_dict(),f=MODEL_SAVE_PATH)"
      ],
      "metadata": {
        "colab": {
          "base_uri": "https://localhost:8080/"
        },
        "id": "BLDBWC8EHi8j",
        "outputId": "da7a36ac-0ecb-4767-b990-d07bd150dc3b"
      },
      "execution_count": 98,
      "outputs": [
        {
          "output_type": "stream",
          "name": "stdout",
          "text": [
            "Save model to: models/01_pytorch_workflow_model.pth\n"
          ]
        }
      ]
    },
    {
      "cell_type": "markdown",
      "source": [
        "## Loading a PyTorch model\n",
        "\n",
        "By load the saved `state_dict()` into a new instance of my model class."
      ],
      "metadata": {
        "id": "NHSURBbLJ8zl"
      }
    },
    {
      "cell_type": "code",
      "source": [
        "model_0.state_dict()"
      ],
      "metadata": {
        "colab": {
          "base_uri": "https://localhost:8080/"
        },
        "id": "2m-DEYKCN_3O",
        "outputId": "371c0573-75d9-45dc-f705-4fa06eb8135a"
      },
      "execution_count": 99,
      "outputs": [
        {
          "output_type": "execute_result",
          "data": {
            "text/plain": [
              "OrderedDict([('weight', tensor([0.6992])), ('bias', tensor([0.3086]))])"
            ]
          },
          "metadata": {},
          "execution_count": 99
        }
      ]
    },
    {
      "cell_type": "code",
      "source": [
        "# To load in a saved state_dict I have to instatiate a new instance or my created model class\n",
        "loaded_model_0 = LinearRegressionModel()\n",
        "loaded_model_0.state_dict()"
      ],
      "metadata": {
        "colab": {
          "base_uri": "https://localhost:8080/"
        },
        "id": "BEgMk6GIOGvR",
        "outputId": "5be64089-2732-4a66-bd80-9885e76f1eb6"
      },
      "execution_count": 100,
      "outputs": [
        {
          "output_type": "execute_result",
          "data": {
            "text/plain": [
              "OrderedDict([('weight', tensor([-2.6341])), ('bias', tensor([-1.6891]))])"
            ]
          },
          "metadata": {},
          "execution_count": 100
        }
      ]
    },
    {
      "cell_type": "code",
      "source": [
        "# Load the saved state_dict of model_0 will update the new instance with updated parameters)\n",
        "loaded_model_0.load_state_dict(torch.load(f=MODEL_SAVE_PATH))"
      ],
      "metadata": {
        "colab": {
          "base_uri": "https://localhost:8080/"
        },
        "id": "Ox0kSZWKO1H6",
        "outputId": "235ef740-16ee-4c51-f6e7-5ac378d9274c"
      },
      "execution_count": 101,
      "outputs": [
        {
          "output_type": "execute_result",
          "data": {
            "text/plain": [
              "<All keys matched successfully>"
            ]
          },
          "metadata": {},
          "execution_count": 101
        }
      ]
    },
    {
      "cell_type": "code",
      "source": [
        "loaded_model_0.state_dict() == model_0.state_dict()"
      ],
      "metadata": {
        "colab": {
          "base_uri": "https://localhost:8080/"
        },
        "id": "Ry_JCQ3-P3PA",
        "outputId": "a88a3f4d-4707-431a-f7b3-f9cfc5ec200e"
      },
      "execution_count": 102,
      "outputs": [
        {
          "output_type": "execute_result",
          "data": {
            "text/plain": [
              "True"
            ]
          },
          "metadata": {},
          "execution_count": 102
        }
      ]
    },
    {
      "cell_type": "markdown",
      "source": [
        "# Putting it all together"
      ],
      "metadata": {
        "id": "OCYHTG7-P-6O"
      }
    },
    {
      "cell_type": "code",
      "source": [
        "# import PyTorch and matplotlib\n",
        "import torch\n",
        "from torch import nn\n",
        "import matplotlib.pyplot as plt\n",
        "\n",
        "# Check pytorch version\n",
        "torch.__version__"
      ],
      "metadata": {
        "colab": {
          "base_uri": "https://localhost:8080/",
          "height": 35
        },
        "id": "1QDRrB4SWWFo",
        "outputId": "4b02cd53-20d3-437c-e987-8785878067a8"
      },
      "execution_count": 103,
      "outputs": [
        {
          "output_type": "execute_result",
          "data": {
            "text/plain": [
              "'2.6.0+cu124'"
            ],
            "application/vnd.google.colaboratory.intrinsic+json": {
              "type": "string"
            }
          },
          "metadata": {},
          "execution_count": 103
        }
      ]
    },
    {
      "cell_type": "markdown",
      "source": [
        "Create device-agnostic code\n",
        "\n",
        "Used when code get access to GPU, for faster computing\n",
        "\n",
        "If no GPU is available, the code will default to using CPU"
      ],
      "metadata": {
        "id": "VSrEZdiBW4fE"
      }
    },
    {
      "cell_type": "code",
      "source": [
        "# Setup device agnostic code\n",
        "device = \"cuda\" if torch.cuda.is_available() else \"cpu\"\n",
        "print(f\"using device: {device}\")"
      ],
      "metadata": {
        "colab": {
          "base_uri": "https://localhost:8080/"
        },
        "id": "JQ1G3bu7XlHb",
        "outputId": "0bfd782f-e179-4f2a-b8f2-9a1a54139db9"
      },
      "execution_count": 104,
      "outputs": [
        {
          "output_type": "stream",
          "name": "stdout",
          "text": [
            "using device: cpu\n"
          ]
        }
      ]
    },
    {
      "cell_type": "code",
      "source": [
        "!nvidia-smi"
      ],
      "metadata": {
        "colab": {
          "base_uri": "https://localhost:8080/"
        },
        "id": "DQBRCbUUYBq5",
        "outputId": "b044e9ec-7860-4057-db27-6562bb83c953"
      },
      "execution_count": 105,
      "outputs": [
        {
          "output_type": "stream",
          "name": "stdout",
          "text": [
            "/bin/bash: line 1: nvidia-smi: command not found\n"
          ]
        }
      ]
    },
    {
      "cell_type": "markdown",
      "source": [
        "## 1.Data"
      ],
      "metadata": {
        "id": "0_T0BGhAYxdY"
      }
    },
    {
      "cell_type": "code",
      "source": [
        "# Create some data using y = weight * X + bias\n",
        "weight = 0.2\n",
        "bias = 1\n",
        "\n",
        "# Create range values\n",
        "start = 0\n",
        "end = 1\n",
        "step = 0.02\n",
        "\n",
        "# Create X and y (features and labels)\n",
        "X = torch.arange(start,end,step).unsqueeze(dim=1)\n",
        "y = weight * X + bias\n",
        "X[:10],y[:10]"
      ],
      "metadata": {
        "colab": {
          "base_uri": "https://localhost:8080/"
        },
        "id": "iPHCy4JmZ6Sc",
        "outputId": "f5f397b1-c6e4-4498-c7f1-b7b336fde953"
      },
      "execution_count": 106,
      "outputs": [
        {
          "output_type": "execute_result",
          "data": {
            "text/plain": [
              "(tensor([[0.0000],\n",
              "         [0.0200],\n",
              "         [0.0400],\n",
              "         [0.0600],\n",
              "         [0.0800],\n",
              "         [0.1000],\n",
              "         [0.1200],\n",
              "         [0.1400],\n",
              "         [0.1600],\n",
              "         [0.1800]]),\n",
              " tensor([[1.0000],\n",
              "         [1.0040],\n",
              "         [1.0080],\n",
              "         [1.0120],\n",
              "         [1.0160],\n",
              "         [1.0200],\n",
              "         [1.0240],\n",
              "         [1.0280],\n",
              "         [1.0320],\n",
              "         [1.0360]]))"
            ]
          },
          "metadata": {},
          "execution_count": 106
        }
      ]
    },
    {
      "cell_type": "code",
      "source": [
        "# Split data\n",
        "train_split = int(len(X)*0.8)\n",
        "X_train,y_train = X[:train_split],y[:train_split]\n",
        "X_test,y_test = X[train_split:],y[train_split:]\n",
        "len(X_train),len(y_train),len(X_test),len(y_test)"
      ],
      "metadata": {
        "colab": {
          "base_uri": "https://localhost:8080/"
        },
        "id": "ZflY1sCCa0Zs",
        "outputId": "e30514b9-68e4-4e9b-9e9d-7b9bb6c95579"
      },
      "execution_count": 107,
      "outputs": [
        {
          "output_type": "execute_result",
          "data": {
            "text/plain": [
              "(40, 40, 10, 10)"
            ]
          },
          "metadata": {},
          "execution_count": 107
        }
      ]
    },
    {
      "cell_type": "code",
      "source": [
        "plot_predictions(X_train,y_train,X_test,y_test)"
      ],
      "metadata": {
        "colab": {
          "base_uri": "https://localhost:8080/",
          "height": 599
        },
        "id": "ZE9ITcjzb0ky",
        "outputId": "eebd2525-9407-4bce-d434-fe9c81fec667"
      },
      "execution_count": 108,
      "outputs": [
        {
          "output_type": "display_data",
          "data": {
            "text/plain": [
              "<Figure size 1000x700 with 1 Axes>"
            ],
            "image/png": "[encoded data removed]"
          },
          "metadata": {}
        }
      ]
    },
    {
      "cell_type": "markdown",
      "source": [
        "## 2.Buiding a PyTorch Linear model"
      ],
      "metadata": {
        "id": "vaXxUfCMcA32"
      }
    },
    {
      "cell_type": "code",
      "source": [
        "# Create a linear model by subclassing nn.Module\n",
        "class LinearRegressionModelV2(nn.Module):\n",
        "  def __init__(self):\n",
        "    super().__init__()\n",
        "    # Use nn.Linear() for creating the model parameters\n",
        "    self.linear_layer = nn.Linear(in_features=1,\n",
        "                    out_features=1)\n",
        "\n",
        "  def forward(self, x: torch.Tensor) -> torch.Tensor: # use self to access parameters in class\n",
        "    return self.linear_layer(x)  # Pass the input through the linear layer and return the output\n",
        "\n",
        "# set the manual seed\n",
        "torch.manual_seed(23)\n",
        "model_1 = LinearRegressionModelV2()\n",
        "model_1,model_1.state_dict()\n",
        "\n",
        "\n",
        "\n"
      ],
      "metadata": {
        "colab": {
          "base_uri": "https://localhost:8080/"
        },
        "id": "na0XYH_leX48",
        "outputId": "45d4a7c4-d93f-42cb-fa67-b10e0ef4b3f0"
      },
      "execution_count": 109,
      "outputs": [
        {
          "output_type": "execute_result",
          "data": {
            "text/plain": [
              "(LinearRegressionModelV2(\n",
              "   (linear_layer): Linear(in_features=1, out_features=1, bias=True)\n",
              " ),\n",
              " OrderedDict([('linear_layer.weight', tensor([[-0.1435]])),\n",
              "              ('linear_layer.bias', tensor([-0.4223]))]))"
            ]
          },
          "metadata": {},
          "execution_count": 109
        }
      ]
    },
    {
      "cell_type": "code",
      "source": [
        "# check the current device\n",
        "next(model_1.parameters()).device"
      ],
      "metadata": {
        "colab": {
          "base_uri": "https://localhost:8080/"
        },
        "id": "9nuTeX2ImVfC",
        "outputId": "4c7736fa-4fdb-4b19-cbb2-71bbcd3f51f1"
      },
      "execution_count": 110,
      "outputs": [
        {
          "output_type": "execute_result",
          "data": {
            "text/plain": [
              "device(type='cpu')"
            ]
          },
          "metadata": {},
          "execution_count": 110
        }
      ]
    },
    {
      "cell_type": "code",
      "source": [
        "# Set the model to use the target device\n",
        "model_1.to(device)\n",
        "next(model_1.parameters()).device"
      ],
      "metadata": {
        "colab": {
          "base_uri": "https://localhost:8080/"
        },
        "id": "p0RujNGuyzXZ",
        "outputId": "67805726-9ca6-4ba3-cad2-4a16553c024f"
      },
      "execution_count": 111,
      "outputs": [
        {
          "output_type": "execute_result",
          "data": {
            "text/plain": [
              "device(type='cpu')"
            ]
          },
          "metadata": {},
          "execution_count": 111
        }
      ]
    },
    {
      "cell_type": "code",
      "source": [
        "model_1.state_dict()"
      ],
      "metadata": {
        "colab": {
          "base_uri": "https://localhost:8080/"
        },
        "id": "6WruUIQI0ICw",
        "outputId": "9a0336a0-afea-4ee8-a024-f9e3392d8862"
      },
      "execution_count": 112,
      "outputs": [
        {
          "output_type": "execute_result",
          "data": {
            "text/plain": [
              "OrderedDict([('linear_layer.weight', tensor([[-0.1435]])),\n",
              "             ('linear_layer.bias', tensor([-0.4223]))])"
            ]
          },
          "metadata": {},
          "execution_count": 112
        }
      ]
    },
    {
      "cell_type": "markdown",
      "source": [
        "## 3.Training\n",
        "For training, I need:\n",
        "* Loss function\n",
        "* Optimizer\n",
        "* Training loop\n",
        "* Testing loop"
      ],
      "metadata": {
        "id": "sOsBBAukzBOk"
      }
    },
    {
      "cell_type": "code",
      "source": [
        "# Set up loss function\n",
        "loss_fn = nn.L1Loss()\n",
        "\n",
        "# Set up optimizer\n",
        "optimizer = torch.optim.SGD(params=model_1.parameters(),\n",
        "                lr=0.01)"
      ],
      "metadata": {
        "id": "BIbgCxJYyzVA"
      },
      "execution_count": 113,
      "outputs": []
    },
    {
      "cell_type": "code",
      "source": [
        "# Traing loop\n",
        "epochs = 300\n",
        "\n",
        "# Put data on the target device (device agnostic code for data)\n",
        "X_train = X_train.to(device)\n",
        "y_train = y_train.to(device)\n",
        "X_test = X_test.to(device)\n",
        "y_test = y_test.to(device)\n",
        "\n",
        "for epoch in range(epochs):\n",
        "  model_1.train()\n",
        "\n",
        "  # 1. Forward pass\n",
        "  y_pred = model_1(X_train)\n",
        "\n",
        "  # 2. Caculate the loss\n",
        "  loss = loss_fn(y_pred,y_train)\n",
        "\n",
        "  # 3. Optimizer zero grad\n",
        "  optimizer.zero_grad()\n",
        "\n",
        "  # 4. Perform backpropagation\n",
        "  loss.backward()\n",
        "\n",
        "  # 5. Step the optimizer\n",
        "  optimizer.step()\n",
        "\n",
        "  ### Testing\n",
        "  model_1.eval()\n",
        "  with torch.inference_mode():\n",
        "    test_pred = model_1(X_test)\n",
        "    test_loss = loss_fn(test_pred,y_test)\n",
        "\n",
        "  # Print out what's happening\n",
        "  if epoch % 10 == 0:\n",
        "    print(f\"Epoch: {epoch} | Loss: {loss} | Test loss: {test_loss}\")"
      ],
      "metadata": {
        "colab": {
          "base_uri": "https://localhost:8080/"
        },
        "id": "b4A_DGM5sh_X",
        "outputId": "c264d484-25b2-478b-9adf-68a104344965"
      },
      "execution_count": 114,
      "outputs": [
        {
          "output_type": "stream",
          "name": "stdout",
          "text": [
            "Epoch: 0 | Loss: 1.556233525276184 | Test loss: 1.7145044803619385\n",
            "Epoch: 10 | Loss: 1.441023588180542 | Test loss: 1.5797945261001587\n",
            "Epoch: 20 | Loss: 1.3258136510849 | Test loss: 1.4450844526290894\n",
            "Epoch: 30 | Loss: 1.2106035947799683 | Test loss: 1.3103744983673096\n",
            "Epoch: 40 | Loss: 1.0953935384750366 | Test loss: 1.1756646633148193\n",
            "Epoch: 50 | Loss: 0.9801836013793945 | Test loss: 1.0409544706344604\n",
            "Epoch: 60 | Loss: 0.8649734258651733 | Test loss: 0.9062445759773254\n",
            "Epoch: 70 | Loss: 0.7497636079788208 | Test loss: 0.7715345621109009\n",
            "Epoch: 80 | Loss: 0.6345536708831787 | Test loss: 0.6368245482444763\n",
            "Epoch: 90 | Loss: 0.5193437337875366 | Test loss: 0.5021145939826965\n",
            "Epoch: 100 | Loss: 0.40413379669189453 | Test loss: 0.36740460991859436\n",
            "Epoch: 110 | Loss: 0.2889239192008972 | Test loss: 0.23269477486610413\n",
            "Epoch: 120 | Loss: 0.1737140417098999 | Test loss: 0.09798494726419449\n",
            "Epoch: 130 | Loss: 0.05886737257242203 | Test loss: 0.035039566457271576\n",
            "Epoch: 140 | Loss: 0.03438437730073929 | Test loss: 0.07149086892604828\n",
            "Epoch: 150 | Loss: 0.030512243509292603 | Test loss: 0.07012293487787247\n",
            "Epoch: 160 | Loss: 0.027066249400377274 | Test loss: 0.06253741681575775\n",
            "Epoch: 170 | Loss: 0.02362743206322193 | Test loss: 0.05426504462957382\n",
            "Epoch: 180 | Loss: 0.020193658769130707 | Test loss: 0.0466795451939106\n",
            "Epoch: 190 | Loss: 0.016762608662247658 | Test loss: 0.03840716928243637\n",
            "Epoch: 200 | Loss: 0.013323783874511719 | Test loss: 0.03013479709625244\n",
            "Epoch: 210 | Loss: 0.009891673922538757 | Test loss: 0.02254929579794407\n",
            "Epoch: 220 | Loss: 0.006458967924118042 | Test loss: 0.014277040958404541\n",
            "Epoch: 230 | Loss: 0.003020173404365778 | Test loss: 0.006004714872688055\n",
            "Epoch: 240 | Loss: 0.00251256232149899 | Test loss: 0.008025610819458961\n",
            "Epoch: 250 | Loss: 0.00251256232149899 | Test loss: 0.008025610819458961\n",
            "Epoch: 260 | Loss: 0.00251256232149899 | Test loss: 0.008025610819458961\n",
            "Epoch: 270 | Loss: 0.00251256232149899 | Test loss: 0.008025610819458961\n",
            "Epoch: 280 | Loss: 0.00251256232149899 | Test loss: 0.008025610819458961\n",
            "Epoch: 290 | Loss: 0.00251256232149899 | Test loss: 0.008025610819458961\n"
          ]
        }
      ]
    },
    {
      "cell_type": "code",
      "source": [
        "model_1.state_dict()"
      ],
      "metadata": {
        "colab": {
          "base_uri": "https://localhost:8080/"
        },
        "id": "CY0jWQro1x3-",
        "outputId": "65b2e0fe-4031-48d2-d8e2-a5b15067cf25"
      },
      "execution_count": 115,
      "outputs": [
        {
          "output_type": "execute_result",
          "data": {
            "text/plain": [
              "OrderedDict([('linear_layer.weight', tensor([[0.2059]])),\n",
              "             ('linear_layer.bias', tensor([1.0002]))])"
            ]
          },
          "metadata": {},
          "execution_count": 115
        }
      ]
    },
    {
      "cell_type": "code",
      "source": [
        "weight,bias"
      ],
      "metadata": {
        "colab": {
          "base_uri": "https://localhost:8080/"
        },
        "id": "BWkHkMmc38K4",
        "outputId": "7d7c477c-cda0-47d0-fa48-44f63c1100ac"
      },
      "execution_count": 116,
      "outputs": [
        {
          "output_type": "execute_result",
          "data": {
            "text/plain": [
              "(0.2, 1)"
            ]
          },
          "metadata": {},
          "execution_count": 116
        }
      ]
    },
    {
      "cell_type": "markdown",
      "source": [
        "## 4.Making prediction and estimating"
      ],
      "metadata": {
        "id": "4A8vuKnY4AuK"
      }
    },
    {
      "cell_type": "code",
      "source": [
        "# Turn model into evaluation mode\n",
        "model_1.eval()\n",
        "\n",
        "# Make prediction on the test data\n",
        "with torch.inference_mode():\n",
        "  y_preds = model_1(X_test)\n",
        "y_preds\n"
      ],
      "metadata": {
        "colab": {
          "base_uri": "https://localhost:8080/"
        },
        "id": "UNS0ykkA4IGk",
        "outputId": "b4d19346-faeb-474a-954f-6d062dd78854"
      },
      "execution_count": 117,
      "outputs": [
        {
          "output_type": "execute_result",
          "data": {
            "text/plain": [
              "tensor([[1.1649],\n",
              "        [1.1690],\n",
              "        [1.1732],\n",
              "        [1.1773],\n",
              "        [1.1814],\n",
              "        [1.1855],\n",
              "        [1.1896],\n",
              "        [1.1937],\n",
              "        [1.1979],\n",
              "        [1.2020]])"
            ]
          },
          "metadata": {},
          "execution_count": 117
        }
      ]
    },
    {
      "cell_type": "code",
      "source": [
        "# Check our model prediction visually\n",
        "plot_predictions(train_data=X_train,train_labels=y_train,\n",
        "          test_data=X_test,test_labels=y_test,predictions=y_preds)"
      ],
      "metadata": {
        "colab": {
          "base_uri": "https://localhost:8080/",
          "height": 599
        },
        "id": "2MdX5_Lw6lXD",
        "outputId": "6762b6ec-02da-47fe-8dfc-9ebacac8d549"
      },
      "execution_count": 121,
      "outputs": [
        {
          "output_type": "display_data",
          "data": {
            "text/plain": [
              "<Figure size 1000x700 with 1 Axes>"
            ],
            "image/png": "[encoded data removed]"
          },
          "metadata": {}
        }
      ]
    },
    {
      "cell_type": "markdown",
      "source": [
        "## 5.Saving & loading a trained model"
      ],
      "metadata": {
        "id": "Xu8w9hHR_ckX"
      }
    },
    {
      "cell_type": "code",
      "source": [
        "from pathlib import Path\n",
        "\n",
        "# 1. Create model dictionary\n",
        "MODEL_PATH = Path(\"models\")\n",
        "MODEL_PATH.mkdir(parents=True,exist_ok=True)\n",
        "\n",
        "# 2. Create model saved path\n",
        "MODEL_NAME = \"01_pytorch_workflow_model1.pth\"\n",
        "MODEL_SAVE_PATH = MODEL_PATH / MODEL_NAME\n",
        "\n",
        "# 3. Save the model state dict\n",
        "torch.save(obj=model_1.state_dict(),f=MODEL_SAVE_PATH)\n",
        "print(f\"Saving model to: {MODEL_SAVE_PATH}\")"
      ],
      "metadata": {
        "colab": {
          "base_uri": "https://localhost:8080/"
        },
        "id": "ilgZ7zOz7pwE",
        "outputId": "534262e2-828b-4aac-d50f-a3deef839da8"
      },
      "execution_count": 124,
      "outputs": [
        {
          "output_type": "stream",
          "name": "stdout",
          "text": [
            "Saving model to: models/01_pytorch_workflow_model1.pth\n"
          ]
        }
      ]
    },
    {
      "cell_type": "code",
      "source": [
        "model_1.state_dict()"
      ],
      "metadata": {
        "colab": {
          "base_uri": "https://localhost:8080/"
        },
        "id": "aeVtihkS-55w",
        "outputId": "afac7fa1-9c17-45db-d4c9-ab2785bfce03"
      },
      "execution_count": 125,
      "outputs": [
        {
          "output_type": "execute_result",
          "data": {
            "text/plain": [
              "OrderedDict([('linear_layer.weight', tensor([[0.2059]])),\n",
              "             ('linear_layer.bias', tensor([1.0002]))])"
            ]
          },
          "metadata": {},
          "execution_count": 125
        }
      ]
    },
    {
      "cell_type": "code",
      "source": [
        "# load a PyTorch model\n",
        "\n",
        "# Create a new instance of model\n",
        "loaded_model_1 = LinearRegressionModelV2()\n",
        "\n",
        "# load the saved model state dict\n",
        "loaded_model_1.load_state_dict(torch.load(f=MODEL_SAVE_PATH))\n",
        "\n",
        "# Put the loaded model to device\n",
        "loaded_model_1.to(device)"
      ],
      "metadata": {
        "colab": {
          "base_uri": "https://localhost:8080/"
        },
        "id": "cnQ93kdh_xLX",
        "outputId": "53489651-e06c-40aa-c1fa-391c1ea23529"
      },
      "execution_count": 126,
      "outputs": [
        {
          "output_type": "execute_result",
          "data": {
            "text/plain": [
              "LinearRegressionModelV2(\n",
              "  (linear_layer): Linear(in_features=1, out_features=1, bias=True)\n",
              ")"
            ]
          },
          "metadata": {},
          "execution_count": 126
        }
      ]
    },
    {
      "cell_type": "code",
      "source": [
        "next(loaded_model_1.parameters()).device"
      ],
      "metadata": {
        "colab": {
          "base_uri": "https://localhost:8080/"
        },
        "id": "IJ_q7O48A8jK",
        "outputId": "c089c7e8-f960-4984-8739-f40ea45d5643"
      },
      "execution_count": 127,
      "outputs": [
        {
          "output_type": "execute_result",
          "data": {
            "text/plain": [
              "device(type='cpu')"
            ]
          },
          "metadata": {},
          "execution_count": 127
        }
      ]
    },
    {
      "cell_type": "code",
      "source": [
        "loaded_model_1.state_dict()"
      ],
      "metadata": {
        "colab": {
          "base_uri": "https://localhost:8080/"
        },
        "id": "6gj_TBL-BEdO",
        "outputId": "0d4ab9da-fa5c-4073-bbcf-9142f7506446"
      },
      "execution_count": 128,
      "outputs": [
        {
          "output_type": "execute_result",
          "data": {
            "text/plain": [
              "OrderedDict([('linear_layer.weight', tensor([[0.2059]])),\n",
              "             ('linear_layer.bias', tensor([1.0002]))])"
            ]
          },
          "metadata": {},
          "execution_count": 128
        }
      ]
    },
    {
      "cell_type": "code",
      "source": [
        "# Evaluate loaded model\n",
        "loaded_model_1.eval()\n",
        "with torch.inference_mode():\n",
        "  loaded_model_1_preds = loaded_model_1(X_test)\n",
        "loaded_model_1_preds == y_preds"
      ],
      "metadata": {
        "colab": {
          "base_uri": "https://localhost:8080/"
        },
        "id": "5rJnMVbuBJFH",
        "outputId": "729fba56-97c4-4a0f-8d97-3657dc4ca713"
      },
      "execution_count": 129,
      "outputs": [
        {
          "output_type": "execute_result",
          "data": {
            "text/plain": [
              "tensor([[True],\n",
              "        [True],\n",
              "        [True],\n",
              "        [True],\n",
              "        [True],\n",
              "        [True],\n",
              "        [True],\n",
              "        [True],\n",
              "        [True],\n",
              "        [True]])"
            ]
          },
          "metadata": {},
          "execution_count": 129
        }
      ]
    },
    {
      "cell_type": "code",
      "source": [],
      "metadata": {
        "id": "zMPMmlUGBjrt"
      },
      "execution_count": null,
      "outputs": []
    }
  ]
}